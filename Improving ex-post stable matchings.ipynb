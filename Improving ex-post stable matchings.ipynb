{
 "cells": [
  {
   "cell_type": "markdown",
   "id": "a6c60445-8209-43a0-98ad-41b236ec1a61",
   "metadata": {},
   "source": [
    "## Initialization"
   ]
  },
  {
   "cell_type": "code",
   "execution_count": 17,
   "id": "64e396b6-002b-40bf-bec9-222cf5e75f9a",
   "metadata": {},
   "outputs": [
    {
     "name": "stdout",
     "output_type": "stream",
     "text": [
      "Requirement already satisfied: pulp in c:\\users\\tdemeule\\appdata\\local\\anaconda3\\lib\\site-packages (2.9.0)\n",
      "Note: you may need to restart the kernel to use updated packages.\n",
      "Requirement already satisfied: gurobipy in c:\\users\\tdemeule\\appdata\\local\\anaconda3\\lib\\site-packages (12.0.0)\n",
      "Note: you may need to restart the kernel to use updated packages.\n",
      "Requirement already satisfied: pyscipopt in c:\\users\\tdemeule\\appdata\\local\\anaconda3\\lib\\site-packages (5.2.1)\n",
      "Note: you may need to restart the kernel to use updated packages.\n"
     ]
    }
   ],
   "source": [
    "%pip install pulp\n",
    "\n",
    "# Install Gurobi\n",
    "%pip install gurobipy \n",
    "    # Obtain academic license from: https://www.gurobi.com/downloads/end-user-license-agreement-academic/\n",
    "\n",
    "# Install SCIP\n",
    "%pip install pyscipopt\n",
    "\n",
    "# Other useful packages\n",
    "import numpy as np\n",
    "import pandas as pd"
   ]
  },
  {
   "cell_type": "code",
   "execution_count": 2,
   "id": "bdf67a65-30ee-4695-ac1f-31783c45f335",
   "metadata": {},
   "outputs": [
    {
     "name": "stdout",
     "output_type": "stream",
     "text": [
      "['GUROBI', 'GUROBI_CMD', 'PULP_CBC_CMD', 'SCIP_CMD', 'FSCIP_CMD', 'SCIP_PY']\n"
     ]
    }
   ],
   "source": [
    "# Check with solvers available on computer\n",
    "import pulp as pl\n",
    "solver_list = pl.listSolvers(onlyAvailable=True)\n",
    "print(solver_list)"
   ]
  },
  {
   "cell_type": "code",
   "execution_count": 15,
   "id": "0003d331-ff91-4453-9e59-cdf116ad8161",
   "metadata": {},
   "outputs": [
    {
     "name": "stdout",
     "output_type": "stream",
     "text": [
      "Gurobi Optimizer version 12.0.0 build v12.0.0rc1 (win64 - Windows 11.0 (22631.2))\n",
      "\n",
      "CPU model: 11th Gen Intel(R) Core(TM) i7-1185G7 @ 3.00GHz, instruction set [SSE2|AVX|AVX2|AVX512]\n",
      "Thread count: 4 physical cores, 8 logical processors, using up to 8 threads\n",
      "\n",
      "Optimize a model with 2 rows, 2 columns and 4 nonzeros\n",
      "Model fingerprint: 0x02dd6d3c\n",
      "Coefficient statistics:\n",
      "  Matrix range     [1e+00, 4e+00]\n",
      "  Objective range  [2e+00, 3e+00]\n",
      "  Bounds range     [0e+00, 0e+00]\n",
      "  RHS range        [2e+01, 5e+01]\n",
      "Presolve time: 0.01s\n",
      "Presolved: 2 rows, 2 columns, 4 nonzeros\n",
      "\n",
      "Iteration    Objective       Primal Inf.    Dual Inf.      Time\n",
      "       0    5.0000000e+30   3.250000e+30   5.000000e+00      0s\n",
      "       2    3.5000000e+01   0.000000e+00   0.000000e+00      0s\n",
      "\n",
      "Solved in 2 iterations and 0.01 seconds (0.00 work units)\n",
      "Optimal objective  3.500000000e+01\n",
      "Gurobi status= 2\n",
      "Status: 1\n",
      "x = 5.000000000000003\n",
      "y = 9.999999999999996\n"
     ]
    },
    {
     "data": {
      "text/plain": [
       "[x, y]"
      ]
     },
     "execution_count": 15,
     "metadata": {},
     "output_type": "execute_result"
    }
   ],
   "source": [
    "# Example of a simple MILP formulation in GUROBI\n",
    "\n",
    "from pulp import LpProblem, LpVariable, LpMaximize, GUROBI\n",
    "\n",
    "# Define a simple problem\n",
    "prob = LpProblem(\"SimpleProblem\", LpMaximize)\n",
    "\n",
    "# Define variables\n",
    "x = LpVariable(\"x\", lowBound=0)  # x >= 0\n",
    "y = LpVariable(\"y\", lowBound=0)  # y >= 0\n",
    "\n",
    "# Objective Function\n",
    "prob += 3 * x + 2 * y, \"Objective\"\n",
    "\n",
    "# Constraints\n",
    "prob += 2 * x + y <= 20, \"Constraint 1\"\n",
    "prob += 4 * x + 3 * y <= 50, \"Constraint 2\"\n",
    "\n",
    "# Solve using Gurobi API\n",
    "prob.solve(GUROBI())\n",
    "\n",
    "# Print the results\n",
    "print(f\"Status: {prob.status}\")\n",
    "print(f\"x = {x.varValue}\")\n",
    "print(f\"y = {y.varValue}\")\n",
    "prob.writeLP(\"Test.lp\")\n"
   ]
  },
  {
   "cell_type": "markdown",
   "id": "774362ba-1144-48c7-a256-1e069931ea82",
   "metadata": {},
   "source": [
    "## Code"
   ]
  },
  {
   "cell_type": "code",
   "execution_count": 52,
   "id": "54562267-7331-4872-b035-feb815c48d94",
   "metadata": {},
   "outputs": [],
   "source": [
    "# Define preferences of the students\n",
    "# 'pref[i][k]' contains the position of the k-th ranked school in the preferences.\n",
    "# We assume the preferences to be strict\n",
    "# Note that preferences can be strict. We indicate this by {} in the list.\n",
    "\n",
    "# Example paper\n",
    "n_stud = 4\n",
    "n_schools = 4\n",
    "\n",
    "# Preferences students\n",
    "pref = [['1', '3', '4', '2'],\n",
    "       ['1','4','3','2'],\n",
    "       ['2','3', '4', '1'],\n",
    "       ['2', '4', '3', '1']]\n",
    "\n",
    "# Priorities schools\n",
    "prior = [[{'A', 'B'}, 'C', 'D'],\n",
    "        [{'C', 'D'}, 'A', 'B'],\n",
    "        ['B', 'D', {'A', 'C'}],\n",
    "        ['A', 'C', {'B', 'D'}]]\n",
    "\n",
    "# Capacities schools\n",
    "cap = [1,1,1,1]\n",
    "\n",
    "# Also create the random matching upon which we want to improve\n",
    "p = np.zeros(shape=(n_stud, n_schools))\n",
    "p[0][0] = 1/2\n",
    "p[1][0] = 1/2\n",
    "p[2][1] = 1/2\n",
    "p[3][2] = 1/2\n",
    "p[0][2] = 3/8\n",
    "p[2][3] = 3/8\n",
    "p[1][3] = 3/8\n",
    "p[3][3] = 3/8\n",
    "\n"
   ]
  },
  {
   "cell_type": "code",
   "execution_count": 60,
   "id": "296a8e7e-d6d5-4149-88de-459b3cd2b018",
   "metadata": {},
   "outputs": [
    {
     "name": "stdout",
     "output_type": "stream",
     "text": [
      "[[0.5 0.  0.  0. ]\n",
      " [0.  0.  0.  0. ]\n",
      " [0.  0.  0.  0. ]\n",
      " [0.  0.  0.  0. ]]\n"
     ]
    }
   ],
   "source": [
    "print(p)"
   ]
  },
  {
   "cell_type": "code",
   "execution_count": 80,
   "id": "1a3d6933-bb9c-4f63-bb1d-ee49d6fdafc7",
   "metadata": {},
   "outputs": [
    {
     "data": {
      "text/plain": [
       "2"
      ]
     },
     "execution_count": 80,
     "metadata": {},
     "output_type": "execute_result"
    }
   ],
   "source": []
  },
  {
   "cell_type": "code",
   "execution_count": null,
   "id": "6d473f1d-b1d6-44bf-8754-7862f0464b45",
   "metadata": {},
   "outputs": [],
   "source": []
  }
 ],
 "metadata": {
  "kernelspec": {
   "display_name": "Python 3 (ipykernel)",
   "language": "python",
   "name": "python3"
  },
  "language_info": {
   "codemirror_mode": {
    "name": "ipython",
    "version": 3
   },
   "file_extension": ".py",
   "mimetype": "text/x-python",
   "name": "python",
   "nbconvert_exporter": "python",
   "pygments_lexer": "ipython3",
   "version": "3.12.4"
  }
 },
 "nbformat": 4,
 "nbformat_minor": 5
}
