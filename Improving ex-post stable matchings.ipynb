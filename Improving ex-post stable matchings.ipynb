{
 "cells": [
  {
   "cell_type": "markdown",
   "id": "a6c60445-8209-43a0-98ad-41b236ec1a61",
   "metadata": {},
   "source": [
    "## Initialization"
   ]
  },
  {
   "cell_type": "code",
   "execution_count": 37,
   "id": "e1791793-5d3a-42a3-b836-f6d123a7ef9c",
   "metadata": {},
   "outputs": [],
   "source": [
    "#from Classes import Data, Assignment\n",
    "    # Later, we can move the Class definitions into a separate file"
   ]
  },
  {
   "cell_type": "code",
   "execution_count": 1,
   "id": "64e396b6-002b-40bf-bec9-222cf5e75f9a",
   "metadata": {},
   "outputs": [
    {
     "name": "stdout",
     "output_type": "stream",
     "text": [
      "Requirement already satisfied: pulp in c:\\users\\tdemeule\\appdata\\local\\anaconda3\\lib\\site-packages (2.9.0)\n",
      "Note: you may need to restart the kernel to use updated packages.\n",
      "Requirement already satisfied: gurobipy in c:\\users\\tdemeule\\appdata\\local\\anaconda3\\lib\\site-packages (12.0.0)\n",
      "Note: you may need to restart the kernel to use updated packages.\n",
      "Requirement already satisfied: pyscipopt in c:\\users\\tdemeule\\appdata\\local\\anaconda3\\lib\\site-packages (5.2.1)\n",
      "Note: you may need to restart the kernel to use updated packages.\n"
     ]
    }
   ],
   "source": [
    "%pip install pulp\n",
    "\n",
    "# Install Gurobi\n",
    "%pip install gurobipy \n",
    "    # Obtain academic license from: https://www.gurobi.com/downloads/end-user-license-agreement-academic/\n",
    "\n",
    "# Install SCIP\n",
    "%pip install pyscipopt\n",
    "\n",
    "# Other useful packages\n",
    "import numpy as np\n",
    "import pandas as pd\n",
    "import copy # To make deep copies\n",
    "import os\n",
    "import matplotlib.pyplot as plt\n",
    "from matplotlib.colors import LinearSegmentedColormap\n",
    "import seaborn as sns\n"
   ]
  },
  {
   "cell_type": "code",
   "execution_count": 2,
   "id": "bdf67a65-30ee-4695-ac1f-31783c45f335",
   "metadata": {},
   "outputs": [
    {
     "name": "stdout",
     "output_type": "stream",
     "text": [
      "['GUROBI', 'GUROBI_CMD', 'PULP_CBC_CMD', 'SCIP_CMD', 'FSCIP_CMD', 'SCIP_PY']\n"
     ]
    }
   ],
   "source": [
    "# Check with solvers available on computer\n",
    "import pulp as pl\n",
    "solver_list = pl.listSolvers(onlyAvailable=True)\n",
    "print(solver_list)"
   ]
  },
  {
   "cell_type": "markdown",
   "id": "c5377d60-7775-4aab-bc4b-55f2abed7ffb",
   "metadata": {},
   "source": [
    "## Define classes\n",
    "Define the following classes:\n",
    "* 'Data': contains\n",
    "    * Number of students\n",
    "    * Number of schools\n",
    "    * Preferences students\n",
    "    * Preferences schools\n",
    "    * Capacities schools\n",
    "    * Names of students\n",
    "    * Names of schools\n",
    "    * File name\n",
    "* 'Assignment': the selection probabilities of the students to the schools"
   ]
  },
  {
   "cell_type": "code",
   "execution_count": 6,
   "id": "2326dc72-5b8e-48fd-9b08-71591f6cf78b",
   "metadata": {},
   "outputs": [],
   "source": [
    "class Data:\n",
    "    # Define the initialization of an object from this class\n",
    "    def __init__(self, n_stud: int, n_schools: int, pref: list, prior: list, cap:list, ID_stud:list, ID_school:list, file_name:str):\n",
    "        self.n_stud = n_stud\n",
    "        self.n_schools = n_schools\n",
    "        self.pref = copy.deepcopy(pref)\n",
    "        self.prior = copy.deepcopy(prior)\n",
    "        self.cap = copy.deepcopy(cap)\n",
    "        self.ID_stud = copy.deepcopy(ID_stud)\n",
    "        self.ID_school = copy.deepcopy(ID_school)\n",
    "        self.file_name = file_name\n",
    "\n",
    "        \n",
    "\n",
    "    # Choose what is being shown for the command 'print(MyData)', where 'MyData' is an instance of the class 'Data'\n",
    "    def __str__(self):\n",
    "        s =\"The data instance has the following properties: \\n\"\n",
    "        s += f\"\\n\\t{self.n_stud} students.\\n\\t{self.n_schools} schools. \\n\\n \\tPREFERENCES:\\n\"\n",
    "        for i in range(0,self.n_stud):\n",
    "            s+= f\"\\t{self.ID_stud[i]}\\t\"\n",
    "            for j in range(0, len(self.pref[i])):\n",
    "                if len(self.pref[i][j]) >= 2:\n",
    "                    s+=f\"{{\"\n",
    "                    for k in range(0, len(self.pref[i][j])):\n",
    "                        s+=f\"{self.pref[i][j][k]}\"\n",
    "                        if k < len(self.pref[i][j]) - 1:\n",
    "                            s+= f\" \"\n",
    "                    s+=f\"}} \"\n",
    "                else:\n",
    "                    s+=f\"{self.pref[i][j]} \"\n",
    "            s +=\"\\n\"\n",
    "\n",
    "        s += f\"\\n\\n \\tCAPACITIES & PRIORITIES:\\n\"\n",
    "        for i in range(0,self.n_schools):\n",
    "            s+= f\"\\t{self.ID_school[i]}\\t\"\n",
    "            s+= f\"{self.cap[i]}\\t\"\n",
    "            for j in range(0, len(self.prior[i])):\n",
    "                if len(self.prior[i][j]) >= 2:\n",
    "                    s+=f\"{{\"\n",
    "                    for k in range(0, len(self.prior[i][j])):\n",
    "                        s+=f\"{self.prior[i][j][k]}\"\n",
    "                        if k < len(self.prior[i][j]) - 1:\n",
    "                            s+= f\" \"\n",
    "                    s+=f\"}} \"\n",
    "                else:\n",
    "                    s+=f\"{self.prior[i][j]} \"\n",
    "            s +=\"\\n\"\n",
    "        return s"
   ]
  },
  {
   "cell_type": "code",
   "execution_count": 39,
   "id": "5f9cd87d-cfc4-4f9e-ad89-eb06e68cc1a0",
   "metadata": {},
   "outputs": [],
   "source": [
    "class Assignment:\n",
    "    # This class will contain an assignment\n",
    "    def __init__(self, MyData: Data, p: np.ndarray, label = None):\n",
    "        # self.file_name = MyData.file_name[:-4] \n",
    "            # Use this when importing .csv files, for example\n",
    "        self.file_name = MyData.file_name\n",
    "        self.MyData = copy.deepcopy(MyData)\n",
    "        self.assignment = copy.deepcopy(p)\n",
    "        self.label = label\n",
    "        \n",
    "        names = []\n",
    "        for i in range(0,MyData.n_stud):\n",
    "            names.append(\"Choice {}\".format(i + 1))\n",
    "        \n",
    "        # Same as assignment, but ranked in decreasing order of preference\n",
    "        self.assignment_ranked = np.zeros(shape=(MyData.n_stud, MyData.n_schools), dtype = np.float64)\n",
    "        counter =  0\n",
    "        for i in range(0, MyData.n_stud):\n",
    "            for j in range(0, len(MyData.pref[i])):\n",
    "                \n",
    "                # Convert pref[i][k] (school ID as string) to column index\n",
    "                col_index = int(MyData.pref[i][j]) - 1\n",
    "                self.assignment_ranked[i][j] = self.assignment[i][col_index]\n",
    "                counter += 1\n",
    "        #self.assignment_ranked = pd.DataFrame(ranked, columns = names)\n",
    "\n",
    "    \n",
    "        # Export assignment\n",
    "        self.export_assignment()\n",
    "    \n",
    "    # Visualize the assignment in different ways\n",
    "    def visualize(self):\n",
    "        # To export the figures, check if the correct folder exists:\n",
    "        if os.path.exists(\"Results\") == False:\n",
    "            # If not, create folder\n",
    "            os.makedirs(\"Results\")\n",
    "        \n",
    "        s = os.path.join(\"Results\", \"Visualisations\")\n",
    "        if os.path.exists(s) == False:\n",
    "            # If not, create folder\n",
    "            os.makedirs(s)\n",
    "        \n",
    "        s = os.path.join(\"Results\", \"Visualisations\",self.file_name)\n",
    "        if os.path.exists(s) == False:\n",
    "            os.makedirs(s)\n",
    "            \n",
    "        \n",
    "        path = \"Results/Visualisations/\"\n",
    "        # The assignment itself\n",
    "        sns.set(rc = {'figure.figsize':(MyData.n_stud,MyData.n_schools/1.5)})\n",
    "        \n",
    "        # Create a custom colormap (to show negative values red)\n",
    "        colors = [\"red\", \"white\", \"blue\"]  # Red for negatives, white for 0, blue for positives\n",
    "        custom_cmap = LinearSegmentedColormap.from_list(\"CustomMap\", colors)\n",
    "        \n",
    "        # Create the heatmap\n",
    "        p = sns.heatmap(self.assignment, cmap = custom_cmap, center=0, annot=True, yticklabels = MyData.ID_stud, xticklabels = MyData.ID_school)\n",
    "        p.set_xlabel(\"Students\", fontsize = 15)\n",
    "        p.set_ylabel(\"Schools\", fontsize = 15)\n",
    "        name = path + self.file_name + \"/\" + self.label + \".pdf\"\n",
    "        p.set_title(self.label, fontsize = 20)\n",
    "        plt.savefig(name, format=\"pdf\", bbox_inches=\"tight\")\n",
    "        \n",
    "        # Assignment, ranked by preference\n",
    "        plt.figure()\n",
    "\n",
    "        # Create a custom colormap (to show negative values red)\n",
    "        colors = [\"red\", \"white\", \"green\"]  # Red for negatives, white for 0, blue for positives\n",
    "        custom_cmap2 = LinearSegmentedColormap.from_list(\"CustomMap\", colors)\n",
    "        \n",
    "        # Create the heatmap\n",
    "        sns.set(rc = {'figure.figsize':(MyData.n_stud,MyData.n_schools/1.5)})\n",
    "        p = sns.heatmap(self.assignment_ranked, cmap = custom_cmap2, center=0, annot=True, yticklabels = MyData.ID_stud, xticklabels = range(1,MyData.n_schools + 1))\n",
    "        p.set_xlabel(\"Preference\", fontsize = 15)\n",
    "        p.set_ylabel(\"Students\", fontsize = 15)\n",
    "        name = path + self.file_name + \"/\" + self.label + \"_Ranked.pdf\"\n",
    "        title = self.file_name + \": ranked by decreasing preference\"\n",
    "        p.set_title(title, fontsize = 20)\n",
    "        plt.savefig(name, format=\"pdf\", bbox_inches=\"tight\")\n",
    "        \n",
    "        plt.figure()\n",
    "    \n",
    "    # Save the assignment to the correct subdirectory\n",
    "    def export_assignment(self):\n",
    "        if os.path.exists(\"Results\") == False:\n",
    "            # If not, create folder\n",
    "            os.makedirs(\"Results\")\n",
    "\n",
    "        s = os.path.join(\"Results\", \"Assignments\")\n",
    "        if os.path.exists(s) == False:\n",
    "            # If not, create folder\n",
    "            os.makedirs(s)\n",
    "\n",
    "        s = os.path.join(\"Results\", \"Assignments\",self.file_name)\n",
    "        if os.path.exists(s) == False:\n",
    "            os.makedirs(s)\n",
    "        \n",
    "        name = \"Results/Assignments/\" + self.file_name + \"/\" + self.label + \"_\" + self.file_name + \".csv\"\n",
    "        np.savetxt(name, self.assignment, delimiter=\",\")\n",
    "        \n",
    "    # Choose what is being shown for the command 'print(Sol)', where 'Sol' is an instance of the class 'Assignment'\n",
    "    def __str__(self):\n",
    "        \n",
    "        return s\n",
    "        "
   ]
  },
  {
   "cell_type": "markdown",
   "id": "774362ba-1144-48c7-a256-1e069931ea82",
   "metadata": {},
   "source": [
    "## Initialize data"
   ]
  },
  {
   "cell_type": "code",
   "execution_count": 7,
   "id": "54562267-7331-4872-b035-feb815c48d94",
   "metadata": {},
   "outputs": [],
   "source": [
    "# Define preferences of the students\n",
    "# 'pref[i][k]' contains the position of the k-th ranked school in the preferences.\n",
    "# We assume the preferences to be strict\n",
    "# Note that preferences can be strict. We indicate this by a tuple () in the list.\n",
    "\n",
    "# Example paper\n",
    "n_stud = 4\n",
    "n_schools = 4\n",
    "\n",
    "file_name = \"Ex_paper\"\n",
    "\n",
    "# Preferences students\n",
    "pref = [['1', '3', '4', '2'],\n",
    "       ['1','4','3','2'],\n",
    "       ['2','3', '4', '1'],\n",
    "       ['2', '4', '3', '1']]\n",
    "\n",
    "# Priorities schools\n",
    "prior = [[('A', 'B'), 'C', 'D'],\n",
    "        [('C', 'D'), 'A', 'B'],\n",
    "        ['B', 'D', ('A', 'C')],\n",
    "        ['A', 'C', ('B', 'D')]]\n",
    "\n",
    "# Capacities schools\n",
    "cap = [1,1,1,1]\n",
    "\n",
    "# Names of students and schools\n",
    "ID_stud = [\"A\", \"B\", \"C\", \"D\"]\n",
    "ID_school = [\"1\", \"2\", \"3\", \"4\"]\n",
    "\n",
    "# Also create the random matching upon which we want to improve\n",
    "p = np.zeros(shape=(n_stud, n_schools))\n",
    "p[0][0] = 1/2\n",
    "p[1][0] = 1/2\n",
    "p[2][1] = 1/2\n",
    "p[3][1] = 1/2\n",
    "p[0][2] = 3/8\n",
    "p[2][2] = 3/8\n",
    "p[1][3] = 3/8\n",
    "p[3][3] = 3/8\n",
    "p[0][3] = 1/8\n",
    "p[2][3] = 1/8\n",
    "p[1][2] = 1/8\n",
    "p[3][2] = 1/8"
   ]
  },
  {
   "cell_type": "markdown",
   "id": "4b7ef150-aa7a-4ce8-8399-29427d673b75",
   "metadata": {},
   "source": [
    "## Solver\n",
    "We define several function that differ from each other in approach to evaluate their performances."
   ]
  },
  {
   "cell_type": "code",
   "execution_count": null,
   "id": "1a3d6933-bb9c-4f63-bb1d-ee49d6fdafc7",
   "metadata": {},
   "outputs": [],
   "source": []
  },
  {
   "cell_type": "code",
   "execution_count": null,
   "id": "6d473f1d-b1d6-44bf-8754-7862f0464b45",
   "metadata": {},
   "outputs": [],
   "source": []
  },
  {
   "cell_type": "markdown",
   "id": "2713baa0-f0ab-4efe-b12e-a56acbff26d4",
   "metadata": {},
   "source": [
    "## Execution"
   ]
  },
  {
   "cell_type": "code",
   "execution_count": 41,
   "id": "b33c068f-ccc4-40f1-af2a-e270e5902b08",
   "metadata": {},
   "outputs": [],
   "source": [
    "MyData = Data(n_stud, n_schools, pref, prior, cap, ID_stud, ID_school, file_name) "
   ]
  },
  {
   "cell_type": "code",
   "execution_count": 43,
   "id": "2f2003ac-e913-4066-a814-876f6d4e93e3",
   "metadata": {},
   "outputs": [
    {
     "data": {
      "text/plain": [
       "[['1', '3', '4', '2'],\n",
       " ['1', '4', '3', '2'],\n",
       " ['2', '3', '4', '1'],\n",
       " ['2', '4', '3', '1']]"
      ]
     },
     "execution_count": 43,
     "metadata": {},
     "output_type": "execute_result"
    }
   ],
   "source": [
    "MyData.pref"
   ]
  },
  {
   "cell_type": "code",
   "execution_count": 45,
   "id": "c03c2be7-8ac2-4cc7-aea9-61743fe354e3",
   "metadata": {},
   "outputs": [
    {
     "name": "stdout",
     "output_type": "stream",
     "text": [
      "The data instance has the following properties: \n",
      "\n",
      "\t4 students.\n",
      "\t4 schools. \n",
      "\n",
      " \tPREFERENCES:\n",
      "\tA\t1 3 4 2 \n",
      "\tB\t1 4 3 2 \n",
      "\tC\t2 3 4 1 \n",
      "\tD\t2 4 3 1 \n",
      "\n",
      "\n",
      " \tCAPACITIES & PRIORITIES:\n",
      "\t1\t1\t{A B} C D \n",
      "\t2\t1\t{C D} A B \n",
      "\t3\t1\tB D {A C} \n",
      "\t4\t1\tA C {B D} \n",
      "\n"
     ]
    }
   ],
   "source": [
    "print(MyData)"
   ]
  },
  {
   "cell_type": "code",
   "execution_count": 47,
   "id": "43896c1d-d24f-4bda-a240-a9859d3b66e7",
   "metadata": {},
   "outputs": [
    {
     "data": {
      "image/png": "[encoded data removed]",
      "text/plain": [
       "<Figure size 400x266.667 with 2 Axes>"
      ]
     },
     "metadata": {},
     "output_type": "display_data"
    },
    {
     "data": {
      "image/png": "[encoded data removed]",
      "text/plain": [
       "<Figure size 400x266.667 with 2 Axes>"
      ]
     },
     "metadata": {},
     "output_type": "display_data"
    },
    {
     "data": {
      "text/plain": [
       "<Figure size 400x266.667 with 0 Axes>"
      ]
     },
     "metadata": {},
     "output_type": "display_data"
    }
   ],
   "source": [
    "p[0][2] = -3/8\n",
    "p[2][0] = -3/4\n",
    "\n",
    "A = Assignment(MyData, p, \"Ex_paper\")\n",
    "A.visualize()"
   ]
  },
  {
   "cell_type": "code",
   "execution_count": 27,
   "id": "36c0b2b5-5798-479e-93df-a8f0f047d915",
   "metadata": {},
   "outputs": [
    {
     "name": "stdout",
     "output_type": "stream",
     "text": [
      "Set parameter Username\n",
      "Set parameter LicenseID to value 2595965\n",
      "Academic license - for non-commercial use only - expires 2025-12-05\n",
      "Gurobi Optimizer version 12.0.0 build v12.0.0rc1 (win64 - Windows 11.0 (22631.2))\n",
      "\n",
      "CPU model: 11th Gen Intel(R) Core(TM) i7-1185G7 @ 3.00GHz, instruction set [SSE2|AVX|AVX2|AVX512]\n",
      "Thread count: 4 physical cores, 8 logical processors, using up to 8 threads\n",
      "\n",
      "Optimize a model with 2 rows, 2 columns and 4 nonzeros\n",
      "Model fingerprint: 0x02dd6d3c\n",
      "Coefficient statistics:\n",
      "  Matrix range     [1e+00, 4e+00]\n",
      "  Objective range  [2e+00, 3e+00]\n",
      "  Bounds range     [0e+00, 0e+00]\n",
      "  RHS range        [2e+01, 5e+01]\n",
      "Presolve time: 0.01s\n",
      "Presolved: 2 rows, 2 columns, 4 nonzeros\n",
      "\n",
      "Iteration    Objective       Primal Inf.    Dual Inf.      Time\n",
      "       0    5.0000000e+30   3.250000e+30   5.000000e+00      0s\n",
      "       2    3.5000000e+01   0.000000e+00   0.000000e+00      0s\n",
      "\n",
      "Solved in 2 iterations and 0.01 seconds (0.00 work units)\n",
      "Optimal objective  3.500000000e+01\n",
      "Gurobi status= 2\n",
      "Status: 1\n",
      "x = 5.000000000000003\n",
      "y = 9.999999999999996\n"
     ]
    },
    {
     "data": {
      "text/plain": [
       "[x, y]"
      ]
     },
     "execution_count": 27,
     "metadata": {},
     "output_type": "execute_result"
    }
   ],
   "source": [
    "# Example of a simple MILP formulation in Gurobi \n",
    "\n",
    "from pulp import LpProblem, LpVariable, LpMaximize, GUROBI\n",
    "\n",
    "# Define a simple problem\n",
    "prob = LpProblem(\"SimpleProblem\", LpMaximize)\n",
    "\n",
    "# Define variables\n",
    "x = LpVariable(\"x\", lowBound=0)  # x >= 0\n",
    "y = LpVariable(\"y\", lowBound=0)  # y >= 0\n",
    "\n",
    "# Objective Function\n",
    "prob += 3 * x + 2 * y, \"Objective\"\n",
    "\n",
    "# Constraints\n",
    "prob += 2 * x + y <= 20, \"Constraint 1\"\n",
    "prob += 4 * x + 3 * y <= 50, \"Constraint 2\"\n",
    "\n",
    "# Solve using Gurobi API\n",
    "prob.solve(GUROBI())\n",
    "\n",
    "# Print the results\n",
    "print(f\"Status: {prob.status}\")\n",
    "print(f\"x = {x.varValue}\")\n",
    "print(f\"y = {y.varValue}\")\n",
    "prob.writeLP(\"Test.lp\")\n"
   ]
  },
  {
   "cell_type": "code",
   "execution_count": null,
   "id": "425cbbb9-19bb-4da2-90ce-435e8bdd71e3",
   "metadata": {},
   "outputs": [],
   "source": []
  }
 ],
 "metadata": {
  "kernelspec": {
   "display_name": "Python 3 (ipykernel)",
   "language": "python",
   "name": "python3"
  },
  "language_info": {
   "codemirror_mode": {
    "name": "ipython",
    "version": 3
   },
   "file_extension": ".py",
   "mimetype": "text/x-python",
   "name": "python",
   "nbconvert_exporter": "python",
   "pygments_lexer": "ipython3",
   "version": "3.12.4"
  }
 },
 "nbformat": 4,
 "nbformat_minor": 5
}
