{
 "cells": [
  {
   "cell_type": "markdown",
   "metadata": {},
   "source": [
    "## Import code"
   ]
  },
  {
   "cell_type": "code",
   "execution_count": null,
   "metadata": {},
   "outputs": [],
   "source": [
    "%load_ext autoreload\n",
    "%autoreload 2 \n",
    "# Autoreloads packages when changes are detected\n",
    "\n",
    "from src.Data import * # Class containing the data\n",
    "from src.Assignment import * # Class containing an assignment\n",
    "from src.Model import * # Class containing a Pulp model used for optimization\n",
    "from src.ModelColumnGen import * # Class containing Pulp model that optimizes using column generation\n",
    "from src.ModelFracStable import * # Class containing a Pulp model for finding an fractionally stable stochastic improvement\n",
    "from src.ModelHeuristicLP import * # Class containing heuristic that will use generated weakly stable matchings as an input\n",
    "from src.DataGen import * # Generate student preferences and school priorities\n",
    "from src.DataGenEE import * # Generate data according to the method by Erdil & Ergin (2008)\n",
    "from src.DA_STB import * # Generate DA assignment with single tie-breaking (STB)\n",
    "from src.ErdilErgin import * # Erdil & Ergil their implementation of Stable Improvement Cycles algorithm + alternative implementation DA\n",
    "from src.SICs import * # Adaptation of SICs algorithm to our code\n",
    "from src.Simulations import * # Run solution methods for multiple data instances\n",
    "\n",
    "from ReadData.Estonia.Estonia import * # Read Estonian data\n",
    "\n",
    "import pickle # to export data\n",
    "\n",
    "# If you get error that pulp and gurobipy are not installed: uncomment following lines in src/Data file:(keep exclamation marks)\n",
    "    #! pip install pulp\n",
    "    #! pip install gurobipy"
   ]
  },
  {
   "cell_type": "markdown",
   "metadata": {},
   "source": [
    "## Column generation formulation"
   ]
  },
  {
   "cell_type": "code",
   "execution_count": null,
   "metadata": {},
   "outputs": [],
   "source": [
    "# Generate random data\n",
    "parameters = DataGenParam(mean_pref = 5, capacity_ratio = 1) # Default parameters, except for mean_pref and capacity_ratio\n",
    "#MyData = generate_data(n_students=400, n_schools=20, parameters = parameters, name=\"Test_DataGen\", print_data=False, seed = 15)\n",
    "#[n_students,n_schools,seed] = [40,10,10]\n",
    "[n_students,n_schools,seed] = [50,12,10] # Nice, good illustration of results!\n",
    "#[n_students,n_schools,seed] = [35,15,0] # Clean simple example where EE has no improvement and we have\n",
    "[n_students,n_schools,seed] = [200,15,10] # Larger. No improvement upon heuristic. But still, heuristic improves quite a lot on EE (93 instead of 90, avg 0.43 instead of 0.38 improvement)\n",
    "name = str(n_students) + \"_\" + str(n_schools) + \"_\" + str(seed)\n",
    "MyData = generate_data(n_students = n_students, n_schools=n_schools, parameters = parameters, name=name, print_data=False, seed = seed)"
   ]
  },
  {
   "cell_type": "code",
   "execution_count": null,
   "metadata": {},
   "outputs": [],
   "source": [
    "# Print data if desired\n",
    "print(MyData)"
   ]
  },
  {
   "cell_type": "code",
   "execution_count": null,
   "metadata": {},
   "outputs": [],
   "source": [
    "# Generate the assignment from DA with Single Tie-Breaking with n_iter samples\n",
    "n_iter = 400\n",
    "bool_SIC = False # Run SICs immediately?\n",
    "A = DA_STB(MyData, n_iter, 'GS', bool_SIC, 0, True)\n",
    "\n",
    "# Find Stable improvement cycles à la Erdil and Ergin (2008)\n",
    "A_SIC = SIC_all_matchings(MyData, A, True)"
   ]
  },
  {
   "cell_type": "code",
   "execution_count": null,
   "metadata": {},
   "outputs": [],
   "source": [
    "# Solve the formulations\n",
    "MyModel = ModelColumnGen(MyData, A_SIC, A.assignment, True)\n",
    "    # Will use matchings in A_SIC to sd_dominate the assignment 'A.assignment' (found by DA)\n",
    "    \n",
    "S = MyModel.Solve(\"TRAD\", \"GUROBI\", print_log=True, time_limit= 80, print_out=True)\n",
    "#q = MyModel.Solve(\"STABLE\", \"GUROBI\", True)"
   ]
  },
  {
   "cell_type": "code",
   "execution_count": null,
   "metadata": {},
   "outputs": [],
   "source": [
    "print(S.A.assignment)\n",
    "print(S.Xdecomp)\n",
    "print(S.Xdecomp_coeff)"
   ]
  },
  {
   "cell_type": "code",
   "execution_count": null,
   "metadata": {},
   "outputs": [],
   "source": [
    "# Asses and visualize the difference\n",
    "name_diff = name + '_diff'\n",
    "diff = Assignment(MyData, S.A.assignment - S.A_DA_prob, name_diff)\n",
    "diffEE = Assignment(MyData, S.A.assignment - S.A_SIC.assignment)\n",
    "diff.visualize()\n",
    "diffEE.visualize()"
   ]
  },
  {
   "cell_type": "code",
   "execution_count": null,
   "metadata": {},
   "outputs": [],
   "source": [
    "# Compare resulting assignment with DA\n",
    "result = S.A.compare(S.A_DA_prob)\n",
    "resultEE = S.A_SIC.compare(S.A_DA_prob)\n",
    "print(\"Number of improving students EE & us\", resultEE['n_students_improving'], result['n_students_improving'])\n",
    "print(\"Average improvement rank EE & us\", resultEE['average_rank_increase'], result[\"average_rank_increase\"])\n",
    "print(\"Median rank improvement\", resultEE['median_rank_improvement'], result['median_rank_improvement'])\n"
   ]
  },
  {
   "cell_type": "code",
   "execution_count": null,
   "metadata": {},
   "outputs": [],
   "source": [
    "# Export data using pickle\n",
    "A = [0, S]\n",
    "print(A[1])\n",
    "\n",
    "# Save to file\n",
    "with open('pickle_test.pkl', 'wb') as f:\n",
    "    pickle.dump(A, f)\n",
    "\n",
    "# Later, load it back\n",
    "with open('pickle_test.pkl', 'rb') as f:\n",
    "    loaded_data = pickle.load(f)\n",
    "\n",
    "print(A[1].A.assignment)\n"
   ]
  },
  {
   "cell_type": "markdown",
   "metadata": {},
   "source": [
    "# Column generation Erdil & Ergin data"
   ]
  },
  {
   "cell_type": "code",
   "execution_count": null,
   "metadata": {},
   "outputs": [],
   "source": [
    "n_stud = 30\n",
    "n_schools = 6\n",
    "pref_list_length = n_schools\n",
    "alpha_in = 0.3\n",
    "beta_in = 0\n",
    "seed = 0\n",
    "MyData = DataGenEE(n_stud, n_schools, alpha_in, beta_in, pref_list_length, True, seed)\n",
    "print(MyData)"
   ]
  },
  {
   "cell_type": "code",
   "execution_count": null,
   "metadata": {},
   "outputs": [],
   "source": [
    "# Generate the assignment from DA with Single Tie-Breaking with n_iter samples\n",
    "n_iter = 1000\n",
    "bool_SIC = False # Run SICs immediately?\n",
    "A = DA_STB(MyData, n_iter, 'GS', bool_SIC, 0, True)\n",
    "\n",
    "# Find Stable improvement cycles à la Erdil and Ergin (2008)\n",
    "A_SIC = SIC_all_matchings(MyData, A, True)"
   ]
  },
  {
   "cell_type": "code",
   "execution_count": null,
   "metadata": {},
   "outputs": [],
   "source": [
    "# Solve the formulations\n",
    "MyModel = ModelColumnGen(MyData, A_SIC, A.assignment, True)\n",
    "    # Will use matchings in A_SIC to sd_dominate the assignment 'A.assignment' (found by DA)\n",
    "    \n",
    "S = MyModel.Solve(\"TRAD\", \"GUROBI\", print_log=False, time_limit= 60, print_out=True)\n",
    "#q = MyModel.Solve(\"STABLE\", \"GUROBI\", True)"
   ]
  },
  {
   "cell_type": "code",
   "execution_count": null,
   "metadata": {},
   "outputs": [],
   "source": [
    "# Compare resulting assignment with DA\n",
    "result = S.A.compare(S.A_DA_prob)\n",
    "resultEE = S.A_SIC.compare(S.A_DA_prob)\n",
    "print(resultEE)\n",
    "print(result)\n",
    "print(\"Number of improving students EE & us\", resultEE['n_students_improving'], result['n_students_improving'])\n",
    "print(\"Average improvement rank EE & us\", resultEE['average_rank_increase'], result[\"average_rank_increase\"])\n",
    "print(\"Median rank improvement\", resultEE['median_rank_improvement'], result['median_rank_improvement'])\n"
   ]
  },
  {
   "cell_type": "code",
   "execution_count": null,
   "metadata": {},
   "outputs": [],
   "source": [
    "# # Asses and visualize the difference\n",
    "# name_diff = MyData.file_name + '_diff'\n",
    "# diff = Assignment(MyData, S.A.assignment - S.A_DA_prob, name_diff)\n",
    "# diffEE = Assignment(MyData, S.A.assignment - S.A_SIC.assignment)\n",
    "# diff.visualize() # Difference compared to DA\n",
    "# diffEE.visualize() # Difference compared to EE"
   ]
  },
  {
   "cell_type": "markdown",
   "metadata": {},
   "source": [
    "# Simulations"
   ]
  },
  {
   "cell_type": "code",
   "execution_count": null,
   "metadata": {},
   "outputs": [
    {
     "name": "stdout",
     "output_type": "stream",
     "text": [
      "[0.0, 1.0]\n"
     ]
    },
    {
     "name": "stderr",
     "output_type": "stream",
     "text": [
      "Data instances:   0%|          | 0/4 [00:00<?, ?inst/s]"
     ]
    },
    {
     "name": "stdout",
     "output_type": "stream",
     "text": [
      "alpha, beta 0.0 0.0\n"
     ]
    },
    {
     "name": "stderr",
     "output_type": "stream",
     "text": [
      "c:\\Users\\tdemeule\\AppData\\Local\\anaconda3\\Lib\\site-packages\\pulp\\pulp.py:1423: UserWarning: Spaces are not permitted in the name. Converted to '_'\n",
      "  warnings.warn(\"Spaces are not permitted in the name. Converted to '_'\")\n"
     ]
    },
    {
     "name": "stdout",
     "output_type": "stream",
     "text": [
      "Set parameter BestObjStop to value -3.9989999999999970e-01\n",
      "Set parameter BestObjStop to value -3.9989999999999970e-01\n",
      "Set parameter BestObjStop to value -3.9989999999999970e-01\n",
      "Set parameter BestObjStop to value -3.9989999999999970e-01\n",
      "Set parameter BestObjStop to value -3.9989999999999909e-01\n",
      "Set parameter BestObjStop to value -8.6656666666666737e-01\n",
      "Set parameter BestObjStop to value -8.6656666666666815e-01\n"
     ]
    },
    {
     "name": "stderr",
     "output_type": "stream",
     "text": [
      "Data instances:  25%|██▌       | 1/4 [00:16<00:49, 16.37s/inst]"
     ]
    },
    {
     "name": "stdout",
     "output_type": "stream",
     "text": [
      "alpha, beta 0.0 1.0\n",
      "Set parameter BestObjStop to value 4.0010000000002954e-01\n",
      "Set parameter BestObjStop to value 4.0010000000002954e-01\n",
      "Set parameter BestObjStop to value 4.0010000000002954e-01\n",
      "Set parameter BestObjStop to value 4.0010000000001034e-01\n",
      "Set parameter BestObjStop to value 1.3343333333333274e-01\n",
      "Set parameter BestObjStop to value 1.3343333333332588e-01\n",
      "Set parameter BestObjStop to value 1.3343333333338947e-01\n",
      "Set parameter BestObjStop to value 1.3343333333332164e-01\n",
      "Set parameter BestObjStop to value 1.3343333333333007e-01\n"
     ]
    },
    {
     "name": "stderr",
     "output_type": "stream",
     "text": [
      "Data instances:  50%|█████     | 2/4 [00:35<00:35, 17.83s/inst]"
     ]
    },
    {
     "name": "stdout",
     "output_type": "stream",
     "text": [
      "alpha, beta 1.0 0.0\n",
      "Set parameter BestObjStop to value -3.4999000000000011e+00\n",
      "Set parameter BestObjStop to value -3.4999000000000002e+00\n"
     ]
    }
   ],
   "source": [
    "n_students = [30]\n",
    "n_schools = [6]\n",
    "n_iterations_simul = 2\n",
    "n_match = 1000\n",
    "time_lim = 2\n",
    "seed = 0\n",
    "\n",
    "ALPHA_INCREMENT = 1\n",
    "BETA_INCREMENT = 1\n",
    "\n",
    "alpha = list(np.arange(0, 1.0, ALPHA_INCREMENT)) + [1.0]\n",
    "beta = list(np.arange(0, 1.0, BETA_INCREMENT)) + [1.0]\n",
    "print(alpha)\n",
    "S_vector = SimulationCG(n_students, n_schools, alpha, beta, n_iterations_simul, n_match, time_lim, seed, True)\n"
   ]
  },
  {
   "cell_type": "code",
   "execution_count": 34,
   "metadata": {},
   "outputs": [
    {
     "name": "stdout",
     "output_type": "stream",
     "text": [
      "2\n"
     ]
    },
    {
     "name": "stderr",
     "output_type": "stream",
     "text": [
      "100%|██████████| 1/1 [00:00<00:00,  2.00it/s]"
     ]
    },
    {
     "name": "stdout",
     "output_type": "stream",
     "text": [
      "30 6 0.0 0.0\n"
     ]
    },
    {
     "name": "stderr",
     "output_type": "stream",
     "text": [
      "\n"
     ]
    }
   ],
   "source": [
    "print(len(S_vector))\n",
    "total_combinations = len(n_students) * len(n_schools) * len(alpha) * len(beta)\n",
    "\n",
    "for n, m, a, b in tqdm(itertools.product(n_students, n_schools, alpha, beta), total = total_combinations):\n",
    "    time.sleep(0.5)\n",
    "    print(n,m,a,b)\n"
   ]
  },
  {
   "cell_type": "markdown",
   "metadata": {},
   "source": [
    "## Estonian data"
   ]
  },
  {
   "cell_type": "code",
   "execution_count": null,
   "metadata": {},
   "outputs": [],
   "source": [
    "file_path = \"ReadData/Estonia/data_anon.txt\" \n",
    "MyData = read_dataEstonia(file_path)\n",
    "print(MyData)"
   ]
  },
  {
   "cell_type": "code",
   "execution_count": null,
   "metadata": {},
   "outputs": [],
   "source": [
    "# Generate the assignment from DA with Single Tie-Breaking with n_iter samples\n",
    "n_iter = 1000\n",
    "bool_SIC = False # Run SICs immediately?\n",
    "A = DA_STB(MyData, n_iter, 'GS', bool_SIC, 0, True)\n",
    "\n",
    "# Find Stable improvement cycles à la Erdil and Ergin (2008)\n",
    "A_SIC = SIC_all_matchings(MyData, A, True)\n",
    "print(A.assignment)"
   ]
  },
  {
   "cell_type": "code",
   "execution_count": null,
   "metadata": {},
   "outputs": [],
   "source": [
    "# Solve the formulations\n",
    "MyModel = ModelColumnGen(MyData, A_SIC, A.assignment, True)\n",
    "timeLimit = 3600\n",
    "q = MyModel.Solve(\"TRAD\", \"GUROBI\", print_log=False, time_limit=timeLimit, print_out=True)\n",
    "#q = MyModel.Solve(\"STABLE\", \"GUROBI\", True)"
   ]
  },
  {
   "cell_type": "code",
   "execution_count": null,
   "metadata": {},
   "outputs": [],
   "source": [
    "# Generate a second subset of matchings, and test column generation with that\n",
    "# (10 June 2025: not yet configured for use of warm start)\n",
    "n_iter = 1000\n",
    "bool_SIC = True # Run SICs immediately?\n",
    "B = DA_STB(MyData, n_iter, 'GS', bool_SIC, 1, True)\n",
    "B_SIC = SIC_all_matchings(MyData, B, True)\n",
    "A_SIC.M_set = copy.deepcopy(B_SIC.M_set)\n",
    "MyModel2 = ModelColumnGen(MyData, A_SIC, A.assignment, True)\n",
    "qq = MyModel2.Solve(\"TRAD\", \"GUROBI\", print_log=True, print_out=False)\n"
   ]
  },
  {
   "cell_type": "markdown",
   "metadata": {},
   "source": [
    "## Run initial IP on generated data\n",
    "Specify the number of students and schools, and run the models for this data."
   ]
  },
  {
   "cell_type": "code",
   "execution_count": null,
   "metadata": {},
   "outputs": [],
   "source": [
    "# Generate random data\n",
    "parameters = DataGenParam(mean_pref = 6, capacity_ratio = 1) # Default parameters, except for mean_pref and capacity_ratio\n",
    "#MyData = generate_data(n_students=400, n_schools=20, parameters = parameters, name=\"Test_DataGen\", print_data=False, seed = 15)\n",
    "MyData = generate_data(n_students=1000, n_schools=50, parameters = parameters, name=\"Test_DataGen_EE_vs_GS\", print_data=False, seed = 0)"
   ]
  },
  {
   "cell_type": "code",
   "execution_count": null,
   "metadata": {},
   "outputs": [],
   "source": [
    "# Print data if desired\n",
    "print(MyData)"
   ]
  },
  {
   "cell_type": "code",
   "execution_count": null,
   "metadata": {},
   "outputs": [],
   "source": [
    "# Generate the assignment from DA with Single Tie-Breaking with n_iter samples\n",
    "n_iter = 20\n",
    "bool_SIC = True # Run SICs immediately?\n",
    "A = DA_STB(MyData, n_iter, 'GS', bool_SIC, 0, True)\n",
    "print(A.assignment)"
   ]
  },
  {
   "cell_type": "code",
   "execution_count": null,
   "metadata": {},
   "outputs": [],
   "source": [
    "# Solve the formulations\n",
    "    # 'IMPR_RANK' refers to minimizing the expected rank while ensuring ex-post stability\n",
    "    # 'STABLE' refers to maximizing the fraction of STABLE matchings in the decomposition\n",
    "MyModel = Model(MyData, A, True)\n",
    "q = MyModel.Solve(\"IMPR_RANK\", \"GUROBI\", True)\n",
    "#q = MyModel.Solve(\"STABLE\", \"GUROBI\", True)"
   ]
  },
  {
   "cell_type": "code",
   "execution_count": null,
   "metadata": {},
   "outputs": [],
   "source": [
    "# Print the solution\n",
    "MyModel.print_solution()"
   ]
  },
  {
   "cell_type": "code",
   "execution_count": null,
   "metadata": {},
   "outputs": [],
   "source": [
    "# Asses and visualize the difference\n",
    "name_diff = name + '_diff'\n",
    "diff = Assignment(MyData, q.assignment - A.assignment, name_diff)\n",
    "diff.visualize()"
   ]
  },
  {
   "cell_type": "markdown",
   "metadata": {},
   "source": [
    "## Heuristic subset weakly stable matchings\n",
    "Runs an LP that minimizes the average rank while stochastically dominating the DA assignment with single-tie breaking, and while only using matchings that were used to compute DA probabilities. This is a heuristic."
   ]
  },
  {
   "cell_type": "code",
   "execution_count": null,
   "metadata": {},
   "outputs": [],
   "source": [
    "# Generate random data\n",
    "parameters = DataGenParam(mean_pref = 5, capacity_ratio = 1) # Default parameters, except for mean_pref and capacity_ratio\n",
    "#MyData = generate_data(n_students=400, n_schools=20, parameters = parameters, name=\"Test_DataGen\", print_data=False, seed = 15)\n",
    "MyData = generate_data(n_students=10, n_schools=4, parameters = parameters, name=\"500_25\", print_data=False, seed = 1)"
   ]
  },
  {
   "cell_type": "code",
   "execution_count": null,
   "metadata": {},
   "outputs": [],
   "source": [
    "# Print data if desired\n",
    "print(MyData)"
   ]
  },
  {
   "cell_type": "code",
   "execution_count": null,
   "metadata": {},
   "outputs": [],
   "source": [
    "# Generate the assignment from DA with Single Tie-Breaking with n_iter samples\n",
    "n_iter = 1000\n",
    "bool_SIC = True # Run SICs immediately?\n",
    "A = DA_STB(MyData, n_iter, 'GS', bool_SIC, 0, True)\n",
    "print(A.assignment)"
   ]
  },
  {
   "cell_type": "code",
   "execution_count": null,
   "metadata": {},
   "outputs": [],
   "source": [
    "# Solve the formulations\n",
    "    # 'IMPR_RANK' refers to minimizing the expected rank while ensuring ex-post stability\n",
    "MyModel = ModelHeuristicLP(MyData, A, True)\n",
    "q = MyModel.Solve(\"IMPR_RANK\", \"GUROBI\", True)\n",
    "#q = MyModel.Solve(\"STABLE\", \"GUROBI\", True)"
   ]
  },
  {
   "cell_type": "code",
   "execution_count": null,
   "metadata": {},
   "outputs": [],
   "source": [
    "# Print the solution\n",
    "MyModel.print_solution()"
   ]
  },
  {
   "cell_type": "code",
   "execution_count": null,
   "metadata": {},
   "outputs": [],
   "source": [
    "print(np.max(q.assignment-A.assignment))"
   ]
  },
  {
   "cell_type": "code",
   "execution_count": null,
   "metadata": {},
   "outputs": [],
   "source": [
    "# Asses and visualize the difference\n",
    "diff = Assignment(MyData, q.assignment - A.assignment, \"40_12_Diff\")\n",
    "diff.visualize()"
   ]
  },
  {
   "cell_type": "markdown",
   "metadata": {},
   "source": [
    "## Heuristic Fractional stable random matching"
   ]
  },
  {
   "cell_type": "code",
   "execution_count": null,
   "metadata": {},
   "outputs": [],
   "source": [
    "# Solve the formulations\n",
    "    # 'IMPR_RANK' refers to minimizing the expected rank while ensuring ex-post stability\n",
    "MyModelFS = ModelFracStable(MyData, A, True)\n",
    "q = MyModelFS.Solve(\"IMPR_RANK\", \"GUROBI\", True)\n",
    "#q = MyModel.Solve(\"STABLE\", \"GUROBI\", True)"
   ]
  },
  {
   "cell_type": "code",
   "execution_count": null,
   "metadata": {},
   "outputs": [],
   "source": [
    "# FInd decomposition over weakly stable matchings of this fractionally stable matching (if decomposition exists)\n",
    "MyModelCHECK = Model(MyData, q, True)\n",
    "q_check = MyModelCHECK.Solve(\"STABLE\", \"GUROBI\", True)"
   ]
  },
  {
   "cell_type": "markdown",
   "metadata": {},
   "source": [
    "## Run code manual data\n",
    "Manually enter data."
   ]
  },
  {
   "cell_type": "code",
   "execution_count": null,
   "metadata": {},
   "outputs": [],
   "source": [
    "# Define preferences of the students\n",
    "# 'pref[i][k]' contains the position of the k-th ranked school in the preferences.\n",
    "# We assume the preferences to be strict\n",
    "# Note that preferences can be strict. We indicate this by a tuple () in the list.\n",
    "\n",
    "# Example paper\n",
    "n_stud = 4\n",
    "n_schools = 4\n",
    "\n",
    "file_name = \"Ex_paper\"\n",
    "\n",
    "# Preferences students\n",
    "pref = [['1', '3', '4', '2'],\n",
    "       ['1','4','3','2'],\n",
    "       # ['1', '4'],\n",
    "       ['2','3', '4', '1'],\n",
    "       ['2', '4', '3', '1']]\n",
    "\n",
    "# Priorities schools\n",
    "prior = [[('A', 'B'), 'C', 'D'],\n",
    "        [('C', 'D'), 'A', 'B'],\n",
    "        ['B', 'D', ('A', 'C')],\n",
    "        ['A', 'C', ('B', 'D')]]\n",
    "\n",
    "\n",
    "# Capacities schools\n",
    "cap = [1,1,1,1]\n",
    "\n",
    "# Names of students and schools\n",
    "ID_stud = [\"A\", \"B\", \"C\", \"D\"]\n",
    "ID_school = [\"1\", \"2\", \"3\", \"4\"]\n",
    "\n",
    "# Also create the random matching upon which we want to improve\n",
    "p = np.zeros(shape=(n_stud, n_schools))\n",
    "p[0][0] = 1/2\n",
    "p[1][0] = 1/2\n",
    "p[2][1] = 1/2\n",
    "p[3][1] = 1/2\n",
    "p[0][2] = 3/8\n",
    "p[2][2] = 3/8\n",
    "p[1][3] = 3/8\n",
    "p[3][3] = 3/8\n",
    "p[0][3] = 1/8\n",
    "p[2][3] = 1/8\n",
    "p[1][2] = 1/8\n",
    "p[3][2] = 1/8"
   ]
  },
  {
   "cell_type": "code",
   "execution_count": null,
   "metadata": {},
   "outputs": [],
   "source": [
    "# Generate a data instance (and print it)\n",
    "MyData = Data(n_stud, n_schools, pref, prior, cap, ID_stud, ID_school, file_name)\n",
    "print(MyData)\n"
   ]
  },
  {
   "cell_type": "code",
   "execution_count": null,
   "metadata": {},
   "outputs": [],
   "source": [
    "# Generate an Assignment instance (and visualize it)\n",
    "A = Assignment(MyData, p, \"Ex_paper\")\n",
    "\n",
    "# To visualize assignment\n",
    "A.visualize()"
   ]
  },
  {
   "cell_type": "code",
   "execution_count": null,
   "metadata": {},
   "outputs": [],
   "source": [
    "# Solve the formulations\n",
    "    # 'IMPR_RANK' refers to minimizing the expected rank while ensuring ex-post stability\n",
    "    # 'STABLE' refers to maximizing the fraction of STABLE matchings in the decomposition\n",
    "MyModel = Model(MyData, A, False)\n",
    "q = MyModel.Solve(\"IMPR_RANK\", \"GUROBI\", False)\n",
    "#q = MyModel.Solve(\"STABLE\", \"GUROBI\", True)"
   ]
  },
  {
   "cell_type": "code",
   "execution_count": null,
   "metadata": {},
   "outputs": [],
   "source": [
    "# Print the solution\n",
    "MyModel.print_solution()"
   ]
  },
  {
   "cell_type": "code",
   "execution_count": null,
   "metadata": {},
   "outputs": [],
   "source": [
    "# Asses and visualize the difference\n",
    "diff = Assignment(MyData, q.assignment - p, \"Ex_paper_Diff\")\n",
    "diff.visualize()"
   ]
  },
  {
   "cell_type": "code",
   "execution_count": null,
   "metadata": {},
   "outputs": [],
   "source": [
    "tuple([1,2])"
   ]
  },
  {
   "cell_type": "code",
   "execution_count": null,
   "metadata": {},
   "outputs": [],
   "source": []
  },
  {
   "cell_type": "code",
   "execution_count": null,
   "metadata": {},
   "outputs": [],
   "source": []
  },
  {
   "cell_type": "markdown",
   "metadata": {},
   "source": [
    "# Erdil & Ergin experiments"
   ]
  },
  {
   "cell_type": "code",
   "execution_count": null,
   "metadata": {},
   "outputs": [],
   "source": [
    "# Define preferences of the students\n",
    "# 'pref[i][k]' contains the position of the k-th ranked school in the preferences.\n",
    "# We assume the preferences to be strict\n",
    "# Note that preferences can be strict. We indicate this by a tuple () in the list.\n",
    "\n",
    "# Example paper\n",
    "n_stud = 4\n",
    "n_schools = 4\n",
    "\n",
    "file_name = \"Ex_paper\"\n",
    "\n",
    "# Preferences students\n",
    "pref = [['1', '3', '4', '2'],\n",
    "       ['1','4','3','2'],\n",
    "       # ['1', '4'],\n",
    "       ['2','3', '4', '1'],\n",
    "       ['2', '4', '3', '1']]\n",
    "\n",
    "# Priorities schools\n",
    "prior = [[('A', 'B'), 'C', 'D'],\n",
    "        [('C', 'D'), 'A', 'B'],\n",
    "        ['B', 'D', ('A', 'C')],\n",
    "        ['A', 'C', ('B', 'D')]]\n",
    "\n",
    "\n",
    "# Capacities schools\n",
    "cap = [1,1,1,1]\n",
    "\n",
    "# Names of students and schools\n",
    "ID_stud = [\"A\", \"B\", \"C\", \"D\"]\n",
    "ID_school = [\"1\", \"2\", \"3\", \"4\"]\n",
    "\n",
    "# Also create the random matching upon which we want to improve\n",
    "p = np.zeros(shape=(n_stud, n_schools))\n",
    "p[0][0] = 1/2\n",
    "p[1][0] = 1/2\n",
    "p[2][1] = 1/2\n",
    "p[3][1] = 1/2\n",
    "p[0][2] = 3/8\n",
    "p[2][2] = 3/8\n",
    "p[1][3] = 3/8\n",
    "p[3][3] = 3/8\n",
    "p[0][3] = 1/8\n",
    "p[2][3] = 1/8\n",
    "p[1][2] = 1/8\n",
    "p[3][2] = 1/8\n",
    "\n",
    "# Generate a data instance (and print it)\n",
    "MyData = Data(n_stud, n_schools, pref, prior, cap, ID_stud, ID_school, file_name)\n",
    "print(MyData)\n"
   ]
  },
  {
   "cell_type": "code",
   "execution_count": null,
   "metadata": {},
   "outputs": [],
   "source": [
    "# Do tie-breaking\n",
    "permut = generate_permutations_STB(MyData, 1, seed = 3)\n",
    "\n",
    "prior_new = generate_strict_prior_from_perturbation(MyData, permut[0])\n",
    "\n",
    "Data_new_prior = Data(MyData.n_stud, MyData.n_schools, MyData.pref, prior_new, MyData.cap, MyData.ID_stud, MyData.ID_school, MyData.file_name)\n",
    "\n",
    "# DA code Erdil & Ergin\n",
    "N = transform_pref_us_to_EE(Data_new_prior)\n",
    "A = transform_prior_us_to_EE(Data_new_prior)\n",
    "Q = MyData.cap\n",
    "result = DA_Erdil_ergin(N,A,Q)\n",
    "print(result)\n",
    "print(type(result['proposeoffset']))\n",
    "\n",
    "M = gale_shapley(Data_new_prior)\n",
    "print(type(M))\n",
    "print(M)\n",
    "\n",
    "M = np.zeros((4,4))\n",
    "M[0,1] = 1\n",
    "M[1,2] = 1\n",
    "M[2,3] = 1\n",
    "M[3,0] = 1\n",
    "print(M)\n",
    "print(M[0,1] == 1)\n",
    "\n",
    "M_out = SIC(MyData, M, False)\n",
    "print(M_out)"
   ]
  },
  {
   "cell_type": "code",
   "execution_count": null,
   "metadata": {},
   "outputs": [],
   "source": [
    "bool_SIC = False # Run SICs immediately?\n",
    "AssignmentGS = DA_STB(MyData, 10, 'GS', bool_SIC, 0)\n",
    "ASIC = SIC_all_matchings(MyData, AssignmentGS, True)\n",
    "\n",
    "print(AssignmentGS.assignment)\n",
    "\n",
    "\n"
   ]
  },
  {
   "cell_type": "markdown",
   "metadata": {},
   "source": [
    "# Quick tests\n"
   ]
  },
  {
   "cell_type": "code",
   "execution_count": null,
   "metadata": {},
   "outputs": [],
   "source": [
    "n_stud = 2000\n",
    "n_schools = 30\n",
    "pref_list_length = n_schools\n",
    "alpha_in = 0.2\n",
    "beta_in = 0\n",
    "seed = 1\n",
    "MyData = DataGenEE(n_stud, n_schools, alpha_in, beta_in, pref_list_length, True, seed)\n",
    "print(MyData)\n"
   ]
  },
  {
   "cell_type": "code",
   "execution_count": null,
   "metadata": {},
   "outputs": [],
   "source": [
    "ALPHA_INCREMENT = 0.2\n",
    "BETA_INCREMENT = 0.4\n",
    "\n",
    "alpha_list = list(np.arange(0, 1.0, ALPHA_INCREMENT)) \n",
    "beta_list = list(np.arange(0, 1.0, BETA_INCREMENT))\n",
    "\n",
    "print(alpha_list)\n",
    "print(type(alpha_list))\n"
   ]
  },
  {
   "cell_type": "code",
   "execution_count": null,
   "metadata": {},
   "outputs": [],
   "source": []
  }
 ],
 "metadata": {
  "kernelspec": {
   "display_name": "base",
   "language": "python",
   "name": "python3"
  },
  "language_info": {
   "codemirror_mode": {
    "name": "ipython",
    "version": 3
   },
   "file_extension": ".py",
   "mimetype": "text/x-python",
   "name": "python",
   "nbconvert_exporter": "python",
   "pygments_lexer": "ipython3",
   "version": "3.12.7"
  }
 },
 "nbformat": 4,
 "nbformat_minor": 2
}
