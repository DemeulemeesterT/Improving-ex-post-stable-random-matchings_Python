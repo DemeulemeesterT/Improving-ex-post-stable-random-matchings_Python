{
 "cells": [
  {
   "cell_type": "markdown",
   "metadata": {},
   "source": [
    "## Import code"
   ]
  },
  {
   "cell_type": "code",
   "execution_count": 1,
   "metadata": {},
   "outputs": [],
   "source": [
    "%load_ext autoreload\n",
    "%autoreload 2 \n",
    "# Autoreloads packages when changes are detected\n",
    "\n",
    "from src.Data import * # Class containing the data\n",
    "from src.Assignment import * # Class containing an assignment\n",
    "from src.Model import * # Class containing a Pulp model used for optimization\n",
    "from src.ModelColumnGen import * # Class containing Pulp model that optimizes using column generation\n",
    "from src.ModelFracStable import * # Class containing a Pulp model for finding an fractionally stable stochastic improvement\n",
    "from src.ModelHeuristicLP import * # Class containing heuristic that will use generated weakly stable matchings as an input\n",
    "from src.DataGen import * # Generate student preferences and school priorities\n",
    "from src.DA_STB import * # Generate DA assignment with single tie-breaking (STB)\n",
    "from src.ErdilErgin import * # Stable Improvement Cycles algorithm + alternative implementation DA\n",
    "\n",
    "from ReadData.Estonia import * # Read Estonian data\n",
    "\n",
    "# If you get error that pulp and gurobipy are not installed: uncomment following lines in src/Data file:(keep exclamation marks)\n",
    "    #! pip install pulp\n",
    "    #! pip install gurobipy"
   ]
  },
  {
   "cell_type": "markdown",
   "metadata": {},
   "source": [
    "## Column generation formulation"
   ]
  },
  {
   "cell_type": "code",
   "execution_count": null,
   "metadata": {},
   "outputs": [],
   "source": [
    "# Generate random data\n",
    "parameters = DataGenParam(mean_pref = 5, capacity_ratio = 1) # Default parameters, except for mean_pref and capacity_ratio\n",
    "#MyData = generate_data(n_students=400, n_schools=20, parameters = parameters, name=\"Test_DataGen\", print_data=False, seed = 15)\n",
    "[n_students,n_schools,seed] = [40,10,10]\n",
    "name = str(n_students) + \"_\" + str(n_schools) + \"_\" + str(seed)\n",
    "MyData = generate_data(n_students = n_students, n_schools=n_schools, parameters = parameters, name=name, print_data=False, seed = seed)"
   ]
  },
  {
   "cell_type": "code",
   "execution_count": null,
   "metadata": {},
   "outputs": [],
   "source": [
    "# Print data if desired\n",
    "print(MyData)"
   ]
  },
  {
   "cell_type": "code",
   "execution_count": null,
   "metadata": {},
   "outputs": [],
   "source": [
    "# Generate the assignment from DA with Single Tie-Breaking with n_iter samples\n",
    "n_iter = 1000\n",
    "A = DA_STB(MyData, n_iter, 0, True)\n",
    "print(A.assignment)"
   ]
  },
  {
   "cell_type": "code",
   "execution_count": null,
   "metadata": {},
   "outputs": [],
   "source": [
    "# Solve the formulations\n",
    "MyModel = ModelColumnGen(MyData, A, True)\n",
    "q = MyModel.Solve(\"TRAD\", \"GUROBI\", print_log=False, print_out=True)\n",
    "#q = MyModel.Solve(\"STABLE\", \"GUROBI\", True)"
   ]
  },
  {
   "cell_type": "code",
   "execution_count": null,
   "metadata": {},
   "outputs": [],
   "source": [
    "print(q.assignment)\n",
    "print(MyModel.Xdecomp)\n",
    "print(MyModel.Xdecomp_coeff)"
   ]
  },
  {
   "cell_type": "code",
   "execution_count": null,
   "metadata": {},
   "outputs": [],
   "source": [
    "# Asses and visualize the difference\n",
    "name_diff = name + '_diff'\n",
    "diff = Assignment(MyData, q.assignment - A.assignment, name_diff)\n",
    "diff.visualize()"
   ]
  },
  {
   "cell_type": "markdown",
   "metadata": {},
   "source": [
    "## Estonian data"
   ]
  },
  {
   "cell_type": "code",
   "execution_count": null,
   "metadata": {},
   "outputs": [],
   "source": [
    "file_path = \"ReadData/data_anon.txt\" \n",
    "MyData = read_dataEstonia(file_path)\n",
    "print(MyData)"
   ]
  },
  {
   "cell_type": "code",
   "execution_count": null,
   "metadata": {},
   "outputs": [],
   "source": [
    "# Generate the assignment from DA with Single Tie-Breaking with n_iter samples\n",
    "n_iter = 1000\n",
    "A = DA_STB(MyData, n_iter, 0, True)\n",
    "print(A.assignment)"
   ]
  },
  {
   "cell_type": "code",
   "execution_count": null,
   "metadata": {},
   "outputs": [],
   "source": [
    "# Solve the formulations\n",
    "MyModel = ModelColumnGen(MyData, A, True)\n",
    "q = MyModel.Solve(\"TRAD\", \"GUROBI\", print_log=False, print_out=True)\n",
    "#q = MyModel.Solve(\"STABLE\", \"GUROBI\", True)"
   ]
  },
  {
   "cell_type": "code",
   "execution_count": null,
   "metadata": {},
   "outputs": [],
   "source": [
    "# Generate a second subset of matchings, and test column generation with that\n",
    "n_iter = 1000\n",
    "B = DA_STB(MyData, n_iter, 1, True)\n",
    "A.M_set = copy.deepcopy(B.M_set)\n",
    "MyModel2 = ModelColumnGen(MyData, A, True)\n",
    "qq = MyModel2.Solve(\"TRAD\", \"GUROBI\", print_log=True, print_out=False)\n"
   ]
  },
  {
   "cell_type": "markdown",
   "metadata": {},
   "source": [
    "## Run initial IP on generated data\n",
    "Specify the number of students and schools, and run the models for this data."
   ]
  },
  {
   "cell_type": "code",
   "execution_count": null,
   "metadata": {},
   "outputs": [],
   "source": [
    "# Generate random data\n",
    "parameters = DataGenParam(mean_pref = 6, capacity_ratio = 1) # Default parameters, except for mean_pref and capacity_ratio\n",
    "#MyData = generate_data(n_students=400, n_schools=20, parameters = parameters, name=\"Test_DataGen\", print_data=False, seed = 15)\n",
    "MyData = generate_data(n_students=5, n_schools=4, parameters = parameters, name=\"Test_DataGen\", print_data=False, seed = 0)"
   ]
  },
  {
   "cell_type": "code",
   "execution_count": null,
   "metadata": {},
   "outputs": [],
   "source": [
    "# Print data if desired\n",
    "print(MyData)"
   ]
  },
  {
   "cell_type": "code",
   "execution_count": null,
   "metadata": {},
   "outputs": [],
   "source": [
    "# Generate the assignment from DA with Single Tie-Breaking with n_iter samples\n",
    "n_iter = 1000\n",
    "A = DA_STB(MyData, n_iter, 0, True)\n",
    "print(A.assignment)"
   ]
  },
  {
   "cell_type": "code",
   "execution_count": null,
   "metadata": {},
   "outputs": [],
   "source": [
    "# Solve the formulations\n",
    "    # 'IMPR_RANK' refers to minimizing the expected rank while ensuring ex-post stability\n",
    "    # 'STABLE' refers to maximizing the fraction of STABLE matchings in the decomposition\n",
    "MyModel = Model(MyData, A, True)\n",
    "q = MyModel.Solve(\"IMPR_RANK\", \"GUROBI\", True)\n",
    "#q = MyModel.Solve(\"STABLE\", \"GUROBI\", True)"
   ]
  },
  {
   "cell_type": "code",
   "execution_count": null,
   "metadata": {},
   "outputs": [],
   "source": [
    "# Print the solution\n",
    "MyModel.print_solution()"
   ]
  },
  {
   "cell_type": "code",
   "execution_count": null,
   "metadata": {},
   "outputs": [],
   "source": [
    "# Asses and visualize the difference\n",
    "name_diff = name + '_diff'\n",
    "diff = Assignment(MyData, q.assignment - A.assignment, name_diff)\n",
    "diff.visualize()"
   ]
  },
  {
   "cell_type": "markdown",
   "metadata": {},
   "source": [
    "## Heuristic subset weakly stable matchings\n",
    "Runs an LP that minimizes the average rank while stochastically dominating the DA assignment with single-tie breaking, and while only using matchings that were used to compute DA probabilities. This is a heuristic."
   ]
  },
  {
   "cell_type": "code",
   "execution_count": null,
   "metadata": {},
   "outputs": [],
   "source": [
    "# Generate random data\n",
    "parameters = DataGenParam(mean_pref = 5, capacity_ratio = 1) # Default parameters, except for mean_pref and capacity_ratio\n",
    "#MyData = generate_data(n_students=400, n_schools=20, parameters = parameters, name=\"Test_DataGen\", print_data=False, seed = 15)\n",
    "MyData = generate_data(n_students=10, n_schools=4, parameters = parameters, name=\"500_25\", print_data=False, seed = 1)"
   ]
  },
  {
   "cell_type": "code",
   "execution_count": null,
   "metadata": {},
   "outputs": [],
   "source": [
    "# Print data if desired\n",
    "print(MyData)"
   ]
  },
  {
   "cell_type": "code",
   "execution_count": null,
   "metadata": {},
   "outputs": [],
   "source": [
    "# Generate the assignment from DA with Single Tie-Breaking with n_iter samples\n",
    "n_iter = 1000\n",
    "A = DA_STB(MyData, n_iter, 0, True)\n",
    "print(A.assignment)"
   ]
  },
  {
   "cell_type": "code",
   "execution_count": null,
   "metadata": {},
   "outputs": [],
   "source": [
    "# Solve the formulations\n",
    "    # 'IMPR_RANK' refers to minimizing the expected rank while ensuring ex-post stability\n",
    "MyModel = ModelHeuristicLP(MyData, A, True)\n",
    "q = MyModel.Solve(\"IMPR_RANK\", \"GUROBI\", True)\n",
    "#q = MyModel.Solve(\"STABLE\", \"GUROBI\", True)"
   ]
  },
  {
   "cell_type": "code",
   "execution_count": null,
   "metadata": {},
   "outputs": [],
   "source": [
    "# Print the solution\n",
    "MyModel.print_solution()"
   ]
  },
  {
   "cell_type": "code",
   "execution_count": null,
   "metadata": {},
   "outputs": [],
   "source": [
    "print(np.max(q.assignment-A.assignment))"
   ]
  },
  {
   "cell_type": "code",
   "execution_count": null,
   "metadata": {},
   "outputs": [],
   "source": [
    "# Asses and visualize the difference\n",
    "diff = Assignment(MyData, q.assignment - A.assignment, \"40_12_Diff\")\n",
    "diff.visualize()"
   ]
  },
  {
   "cell_type": "markdown",
   "metadata": {},
   "source": [
    "## Heuristic Fractional stable random matching"
   ]
  },
  {
   "cell_type": "code",
   "execution_count": null,
   "metadata": {},
   "outputs": [],
   "source": [
    "# Solve the formulations\n",
    "    # 'IMPR_RANK' refers to minimizing the expected rank while ensuring ex-post stability\n",
    "MyModelFS = ModelFracStable(MyData, A, True)\n",
    "q = MyModelFS.Solve(\"IMPR_RANK\", \"GUROBI\", True)\n",
    "#q = MyModel.Solve(\"STABLE\", \"GUROBI\", True)"
   ]
  },
  {
   "cell_type": "code",
   "execution_count": null,
   "metadata": {},
   "outputs": [],
   "source": [
    "# FInd decomposition over weakly stable matchings of this fractionally stable matching (if decomposition exists)\n",
    "MyModelCHECK = Model(MyData, q, True)\n",
    "q_check = MyModelCHECK.Solve(\"STABLE\", \"GUROBI\", True)"
   ]
  },
  {
   "cell_type": "markdown",
   "metadata": {},
   "source": [
    "## Run code manual data\n",
    "Manually enter data."
   ]
  },
  {
   "cell_type": "code",
   "execution_count": null,
   "metadata": {},
   "outputs": [],
   "source": [
    "# Define preferences of the students\n",
    "# 'pref[i][k]' contains the position of the k-th ranked school in the preferences.\n",
    "# We assume the preferences to be strict\n",
    "# Note that preferences can be strict. We indicate this by a tuple () in the list.\n",
    "\n",
    "# Example paper\n",
    "n_stud = 4\n",
    "n_schools = 4\n",
    "\n",
    "file_name = \"Ex_paper\"\n",
    "\n",
    "# Preferences students\n",
    "pref = [['1', '3', '4', '2'],\n",
    "       ['1','4','3','2'],\n",
    "       # ['1', '4'],\n",
    "       ['2','3', '4', '1'],\n",
    "       ['2', '4', '3', '1']]\n",
    "\n",
    "# Priorities schools\n",
    "prior = [[('A', 'B'), 'C', 'D'],\n",
    "        [('C', 'D'), 'A', 'B'],\n",
    "        ['B', 'D', ('A', 'C')],\n",
    "        ['A', 'C', ('B', 'D')]]\n",
    "\n",
    "\n",
    "# Capacities schools\n",
    "cap = [1,1,1,1]\n",
    "\n",
    "# Names of students and schools\n",
    "ID_stud = [\"A\", \"B\", \"C\", \"D\"]\n",
    "ID_school = [\"1\", \"2\", \"3\", \"4\"]\n",
    "\n",
    "# Also create the random matching upon which we want to improve\n",
    "p = np.zeros(shape=(n_stud, n_schools))\n",
    "p[0][0] = 1/2\n",
    "p[1][0] = 1/2\n",
    "p[2][1] = 1/2\n",
    "p[3][1] = 1/2\n",
    "p[0][2] = 3/8\n",
    "p[2][2] = 3/8\n",
    "p[1][3] = 3/8\n",
    "p[3][3] = 3/8\n",
    "p[0][3] = 1/8\n",
    "p[2][3] = 1/8\n",
    "p[1][2] = 1/8\n",
    "p[3][2] = 1/8"
   ]
  },
  {
   "cell_type": "code",
   "execution_count": null,
   "metadata": {},
   "outputs": [],
   "source": [
    "# Generate a data instance (and print it)\n",
    "MyData = Data(n_stud, n_schools, pref, prior, cap, ID_stud, ID_school, file_name)\n",
    "print(MyData)\n"
   ]
  },
  {
   "cell_type": "code",
   "execution_count": null,
   "metadata": {},
   "outputs": [],
   "source": [
    "# Generate an Assignment instance (and visualize it)\n",
    "A = Assignment(MyData, p, \"Ex_paper\")\n",
    "\n",
    "# To visualize assignment\n",
    "A.visualize()"
   ]
  },
  {
   "cell_type": "code",
   "execution_count": null,
   "metadata": {},
   "outputs": [],
   "source": [
    "# Solve the formulations\n",
    "    # 'IMPR_RANK' refers to minimizing the expected rank while ensuring ex-post stability\n",
    "    # 'STABLE' refers to maximizing the fraction of STABLE matchings in the decomposition\n",
    "MyModel = Model(MyData, A, False)\n",
    "q = MyModel.Solve(\"IMPR_RANK\", \"GUROBI\", False)\n",
    "#q = MyModel.Solve(\"STABLE\", \"GUROBI\", True)"
   ]
  },
  {
   "cell_type": "code",
   "execution_count": null,
   "metadata": {},
   "outputs": [],
   "source": [
    "# Print the solution\n",
    "MyModel.print_solution()"
   ]
  },
  {
   "cell_type": "code",
   "execution_count": null,
   "metadata": {},
   "outputs": [],
   "source": [
    "# Asses and visualize the difference\n",
    "diff = Assignment(MyData, q.assignment - p, \"Ex_paper_Diff\")\n",
    "diff.visualize()"
   ]
  },
  {
   "cell_type": "code",
   "execution_count": null,
   "metadata": {},
   "outputs": [],
   "source": [
    "tuple([1,2])"
   ]
  },
  {
   "cell_type": "code",
   "execution_count": null,
   "metadata": {},
   "outputs": [],
   "source": []
  },
  {
   "cell_type": "code",
   "execution_count": null,
   "metadata": {},
   "outputs": [],
   "source": []
  },
  {
   "cell_type": "markdown",
   "metadata": {},
   "source": [
    "# Erdil & Ergin experiments"
   ]
  },
  {
   "cell_type": "code",
   "execution_count": 2,
   "metadata": {},
   "outputs": [
    {
     "name": "stdout",
     "output_type": "stream",
     "text": [
      "The data instance has the following properties: \n",
      "\n",
      "\t4 students.\n",
      "\t4 schools. \n",
      "\n",
      " \tPREFERENCES:\n",
      "\tA\t1 3 4 2 \n",
      "\tB\t1 4 3 2 \n",
      "\tC\t2 3 4 1 \n",
      "\tD\t2 4 3 1 \n",
      "\n",
      "\n",
      " \tCAPACITIES & PRIORITIES:\n",
      "\t1\t1\t{A B} C D \n",
      "\t2\t1\t{C D} A B \n",
      "\t3\t1\tB D {A C} \n",
      "\t4\t1\tA C {B D} \n",
      "\n"
     ]
    }
   ],
   "source": [
    "# Define preferences of the students\n",
    "# 'pref[i][k]' contains the position of the k-th ranked school in the preferences.\n",
    "# We assume the preferences to be strict\n",
    "# Note that preferences can be strict. We indicate this by a tuple () in the list.\n",
    "\n",
    "# Example paper\n",
    "n_stud = 4\n",
    "n_schools = 4\n",
    "\n",
    "file_name = \"Ex_paper\"\n",
    "\n",
    "# Preferences students\n",
    "pref = [['1', '3', '4', '2'],\n",
    "       ['1','4','3','2'],\n",
    "       # ['1', '4'],\n",
    "       ['2','3', '4', '1'],\n",
    "       ['2', '4', '3', '1']]\n",
    "\n",
    "# Priorities schools\n",
    "prior = [[('A', 'B'), 'C', 'D'],\n",
    "        [('C', 'D'), 'A', 'B'],\n",
    "        ['B', 'D', ('A', 'C')],\n",
    "        ['A', 'C', ('B', 'D')]]\n",
    "\n",
    "\n",
    "# Capacities schools\n",
    "cap = [1,1,1,1]\n",
    "\n",
    "# Names of students and schools\n",
    "ID_stud = [\"A\", \"B\", \"C\", \"D\"]\n",
    "ID_school = [\"1\", \"2\", \"3\", \"4\"]\n",
    "\n",
    "# Also create the random matching upon which we want to improve\n",
    "p = np.zeros(shape=(n_stud, n_schools))\n",
    "p[0][0] = 1/2\n",
    "p[1][0] = 1/2\n",
    "p[2][1] = 1/2\n",
    "p[3][1] = 1/2\n",
    "p[0][2] = 3/8\n",
    "p[2][2] = 3/8\n",
    "p[1][3] = 3/8\n",
    "p[3][3] = 3/8\n",
    "p[0][3] = 1/8\n",
    "p[2][3] = 1/8\n",
    "p[1][2] = 1/8\n",
    "p[3][2] = 1/8\n",
    "\n",
    "# Generate a data instance (and print it)\n",
    "MyData = Data(n_stud, n_schools, pref, prior, cap, ID_stud, ID_school, file_name)\n",
    "print(MyData)\n"
   ]
  },
  {
   "cell_type": "code",
   "execution_count": 15,
   "metadata": {},
   "outputs": [
    {
     "name": "stdout",
     "output_type": "stream",
     "text": [
      "{'stable_all': [{1}, {2}, {0}, {3}], 'proposeoffset': [1, 0, 0, 1]}\n",
      "<class 'set'>\n",
      "[[0. 0. 1. 0.]\n",
      " [1. 0. 0. 0.]\n",
      " [0. 1. 0. 0.]\n",
      " [0. 0. 0. 1.]]\n"
     ]
    }
   ],
   "source": [
    "# Do tie-breaking\n",
    "permut = generate_permutations_STB(MyData, 1, seed = 3)\n",
    "\n",
    "prior_new = generate_strict_prior_from_perturbation(MyData, permut[0])\n",
    "\n",
    "Data_new_prior = Data(MyData.n_stud, MyData.n_schools, MyData.pref, prior_new, MyData.cap, MyData.ID_stud, MyData.ID_school, MyData.file_name)\n",
    "\n",
    "# DA code Erdil & Ergin\n",
    "N = transform_pref_us_to_EE(Data_new_prior)\n",
    "A = transform_prior_us_to_EE(Data_new_prior)\n",
    "Q = MyData.cap\n",
    "result = DA_Erdil_ergin(N,A,Q)\n",
    "print(result)\n",
    "print(type(result['stable_all'][0]))\n",
    "\n",
    "M = gale_shapley(Data_new_prior)\n",
    "print(M)"
   ]
  },
  {
   "cell_type": "code",
   "execution_count": 10,
   "metadata": {},
   "outputs": [
    {
     "name": "stdout",
     "output_type": "stream",
     "text": [
      "\n",
      "\n",
      "\n",
      " STILL MODIFY FORMAT OF MATCHING!!\n",
      "\n",
      "\n",
      "\n"
     ]
    },
    {
     "ename": "UnboundLocalError",
     "evalue": "cannot access local variable 'M_computed' where it is not associated with a value",
     "output_type": "error",
     "traceback": [
      "\u001b[1;31m---------------------------------------------------------------------------\u001b[0m",
      "\u001b[1;31mUnboundLocalError\u001b[0m                         Traceback (most recent call last)",
      "Cell \u001b[1;32mIn[10], line 1\u001b[0m\n\u001b[1;32m----> 1\u001b[0m AssignmentEE \u001b[38;5;241m=\u001b[39m DA_STB(MyData, \u001b[38;5;241m20\u001b[39m, \u001b[38;5;124m'\u001b[39m\u001b[38;5;124mEE\u001b[39m\u001b[38;5;124m'\u001b[39m, \u001b[38;5;241m0\u001b[39m)\n\u001b[0;32m      2\u001b[0m AssignmentGS \u001b[38;5;241m=\u001b[39m DA_STB(MyData, \u001b[38;5;241m20\u001b[39m, \u001b[38;5;124m'\u001b[39m\u001b[38;5;124mGS\u001b[39m\u001b[38;5;124m'\u001b[39m, \u001b[38;5;241m0\u001b[39m)\n\u001b[0;32m      4\u001b[0m \u001b[38;5;28mprint\u001b[39m(AssignmentEE\u001b[38;5;241m.\u001b[39massignment)\n",
      "File \u001b[1;32mc:\\Users\\tdemeule\\OneDrive - Université de Lausanne\\Academia\\'Research'\\2025_Ex-post stability Péter\\Improving-ex-post-stable-random-matchings_Python\\src\\DA_STB.py:56\u001b[0m, in \u001b[0;36mDA_STB\u001b[1;34m(MyData, n_iter, DA_impl, seed, print_out)\u001b[0m\n\u001b[0;32m     51\u001b[0m     result \u001b[38;5;241m=\u001b[39m DA_Erdil_ergin(N, A, Q)\n\u001b[0;32m     53\u001b[0m     \u001b[38;5;28mprint\u001b[39m(\u001b[38;5;124m'\u001b[39m\u001b[38;5;130;01m\\n\u001b[39;00m\u001b[38;5;130;01m\\n\u001b[39;00m\u001b[38;5;130;01m\\n\u001b[39;00m\u001b[38;5;124m STILL MODIFY FORMAT OF MATCHING!!\u001b[39m\u001b[38;5;130;01m\\n\u001b[39;00m\u001b[38;5;130;01m\\n\u001b[39;00m\u001b[38;5;130;01m\\n\u001b[39;00m\u001b[38;5;124m'\u001b[39m)\n\u001b[1;32m---> 56\u001b[0m M_set\u001b[38;5;241m.\u001b[39madd(\u001b[38;5;28mtuple\u001b[39m(\u001b[38;5;28mmap\u001b[39m(\u001b[38;5;28mtuple\u001b[39m, M_computed))) \u001b[38;5;66;03m# Add found matching to the set of matchings\u001b[39;00m\n\u001b[0;32m     57\u001b[0m     \u001b[38;5;66;03m# You have to add it as a tuple of tuples, because otherwise Python cannot check whether it was already in the set.\u001b[39;00m\n\u001b[0;32m     58\u001b[0m     \u001b[38;5;66;03m# If later you want to use it as a numpy array again, just use np.array(tuple_of_tuples)\u001b[39;00m\n\u001b[0;32m     59\u001b[0m M_sum \u001b[38;5;241m=\u001b[39m M_sum \u001b[38;5;241m+\u001b[39m M_computed            \n",
      "\u001b[1;31mUnboundLocalError\u001b[0m: cannot access local variable 'M_computed' where it is not associated with a value"
     ]
    }
   ],
   "source": [
    "AssignmentEE = DA_STB(MyData, 20, 'EE', 0)\n",
    "AssignmentGS = DA_STB(MyData, 20, 'GS', 0)\n",
    "\n",
    "print(AssignmentEE.assignment)\n",
    "print(AssignmentGS.assignment)\n"
   ]
  },
  {
   "cell_type": "code",
   "execution_count": null,
   "metadata": {},
   "outputs": [],
   "source": [
    "A = [\n",
    "    {0:1, 1:1, 2:2, 3:1, 4:1, 5:1, 6:1, 7:2, 8:2, 9:1, 10:1, 11:1, 12:1, 13:2, 14:2, 15:1},\n",
    "    {0:1, 1:2, 2:1, 3:2, 4:1, 5:1, 6:1, 7:2, 8:2, 9:1, 10:1, 11:1, 12:1, 13:2, 14:1, 15:1},\n",
    "    {0:2, 1:1, 2:1, 3:2, 4:1, 5:1, 6:1, 7:2, 8:2, 9:2, 10:2, 11:2, 12:1, 13:2, 14:2, 15:1},\n",
    "    {0:1, 1:1, 2:1, 3:1, 4:1, 5:1, 6:1, 7:2, 8:2, 9:1, 10:1, 11:1, 12:1, 13:2, 14:2, 15:1}\n",
    "    ]\n",
    "\n",
    "def nonuniform_tie_break(A):\n",
    "    new_A = []\n",
    "    for school in A:\n",
    "        ranks = {}\n",
    "        for key,value in list(school.items()):\n",
    "            ranks[key] = value + random()\n",
    "        new_A.append(ranks)\n",
    "    return new_A\n",
    "\n",
    "def uniform_tie_break(A):\n",
    "    n = len(A[0])\n",
    "    rv = []\n",
    "    for student in range(n):\n",
    "        rv.append(random())\n",
    "    \n",
    "    new_A = []\n",
    "    for school in A:\n",
    "        ranks = {}\n",
    "        for key,value in list(school.items()):\n",
    "            ranks[key] = value + rv[key]\n",
    "        new_A.append(ranks)\n",
    "    return new_A\n",
    "\n",
    "\n",
    "print(nonuniform_tie_break(A))"
   ]
  },
  {
   "cell_type": "code",
   "execution_count": null,
   "metadata": {},
   "outputs": [],
   "source": []
  }
 ],
 "metadata": {
  "kernelspec": {
   "display_name": "base",
   "language": "python",
   "name": "python3"
  },
  "language_info": {
   "codemirror_mode": {
    "name": "ipython",
    "version": 3
   },
   "file_extension": ".py",
   "mimetype": "text/x-python",
   "name": "python",
   "nbconvert_exporter": "python",
   "pygments_lexer": "ipython3",
   "version": "3.12.7"
  }
 },
 "nbformat": 4,
 "nbformat_minor": 2
}
