{
 "cells": [
  {
   "cell_type": "markdown",
   "metadata": {},
   "source": [
    "## Import code"
   ]
  },
  {
   "cell_type": "code",
   "execution_count": 1,
   "metadata": {},
   "outputs": [],
   "source": [
    "%load_ext autoreload\n",
    "%autoreload 2 \n",
    "# Autoreloads packages when changes are detected\n",
    "\n",
    "from src.Data import * # Class containing the data\n",
    "from src.Assignment import * # Class containing an assignment\n",
    "from src.Model import * # Class containing a Pulp model used for optimization\n",
    "from src.ModelColumnGen import * # Class containing Pulp model that optimizes using column generation\n",
    "from src.ModelFracStable import * # Class containing a Pulp model for finding an fractionally stable stochastic improvement\n",
    "from src.ModelHeuristicLP import * # Class containing heuristic that will use generated weakly stable matchings as an input\n",
    "from src.DataGen import * # Generate student preferences and school priorities\n",
    "from src.DA_STB import * # Generate DA assignment with single tie-breaking (STB)\n",
    "\n",
    "# If you get error that pulp and gurobipy are not installed: uncomment following lines in src/Data file:(keep exclamation marks)\n",
    "    #! pip install pulp\n",
    "    #! pip install gurobipy"
   ]
  },
  {
   "cell_type": "markdown",
   "metadata": {},
   "source": [
    "## Column generation formulation"
   ]
  },
  {
   "cell_type": "code",
   "execution_count": 2,
   "metadata": {},
   "outputs": [],
   "source": [
    "# Generate random data\n",
    "parameters = DataGenParam(mean_pref = 4, capacity_ratio = 1) # Default parameters, except for mean_pref and capacity_ratio\n",
    "#MyData = generate_data(n_students=400, n_schools=20, parameters = parameters, name=\"Test_DataGen\", print_data=False, seed = 15)\n",
    "MyData = generate_data(n_students=8, n_schools=4, parameters = parameters, name=\"8_4\", print_data=False, seed = 0)"
   ]
  },
  {
   "cell_type": "code",
   "execution_count": 3,
   "metadata": {},
   "outputs": [
    {
     "name": "stdout",
     "output_type": "stream",
     "text": [
      "The data instance has the following properties: \n",
      "\n",
      "\t8 students.\n",
      "\t4 schools. \n",
      "\n",
      " \tPREFERENCES:\n",
      "\t0\t3 2 1 \n",
      "\t1\t2 0 \n",
      "\t2\t1 3 2 \n",
      "\t3\t2 1 3 0 \n",
      "\t4\t2 \n",
      "\t5\t2 3 1 \n",
      "\t6\t1 3 \n",
      "\t7\t2 1 3 \n",
      "\n",
      "\n",
      " \tCAPACITIES & PRIORITIES:\n",
      "\t0\t2\t{4 1} {7 0} {5 2 6 3} \n",
      "\t1\t1\t{6 0} {2 1} {7 4 5 3} \n",
      "\t2\t3\t{5 1} {0 7} {3 6 2 4} \n",
      "\t3\t2\t{2 3} {5 0} {6 4 1 7} \n",
      "\n"
     ]
    }
   ],
   "source": [
    "# Print data if desired\n",
    "print(MyData)"
   ]
  },
  {
   "cell_type": "code",
   "execution_count": 4,
   "metadata": {},
   "outputs": [
    {
     "name": "stdout",
     "output_type": "stream",
     "text": [
      "Students in ties: 8\n",
      "Tie-breaking rules needed: 40320\n",
      "Tie-breaking rules sampled: 1000\n"
     ]
    },
    {
     "name": "stderr",
     "output_type": "stream",
     "text": [
      "100%|██████████| 1000/1000 [00:00<00:00, 4073.81it/s]"
     ]
    },
    {
     "name": "stdout",
     "output_type": "stream",
     "text": [
      "[[0.    0.164 0.528 0.   ]\n",
      " [0.    0.    1.    0.   ]\n",
      " [0.    0.    0.    1.   ]\n",
      " [0.    0.    0.    1.   ]\n",
      " [0.    0.    0.    0.   ]\n",
      " [0.    0.    1.    0.   ]\n",
      " [0.    0.836 0.    0.   ]\n",
      " [0.    0.    0.472 0.   ]]\n"
     ]
    },
    {
     "name": "stderr",
     "output_type": "stream",
     "text": [
      "\n"
     ]
    }
   ],
   "source": [
    "# Generate the assignment from DA with Single Tie-Breaking with n_iter samples\n",
    "n_iter = 1000\n",
    "A = DA_STB(MyData, n_iter, 0, True)\n",
    "print(A.assignment)"
   ]
  },
  {
   "cell_type": "code",
   "execution_count": 8,
   "metadata": {},
   "outputs": [
    {
     "name": "stdout",
     "output_type": "stream",
     "text": [
      "\n",
      "Average rank before optimization: 1.232.\n",
      "\n",
      "\n",
      "1\n",
      "\n",
      "\n",
      " ****** MASTER ****** \n",
      "\n",
      "\n",
      "Number of matchings: 3\n",
      "((0.0, 1.0, 0.0, 0.0), (0.0, 0.0, 1.0, 0.0), (0.0, 0.0, 0.0, 1.0), (0.0, 0.0, 0.0, 1.0), (0.0, 0.0, 0.0, 0.0), (0.0, 0.0, 1.0, 0.0), (0.0, 0.0, 0.0, 0.0), (0.0, 0.0, 1.0, 0.0))\n",
      "((0.0, 0.0, 0.0, 0.0), (0.0, 0.0, 1.0, 0.0), (0.0, 0.0, 0.0, 1.0), (0.0, 0.0, 0.0, 1.0), (0.0, 0.0, 0.0, 0.0), (0.0, 0.0, 1.0, 0.0), (0.0, 1.0, 0.0, 0.0), (0.0, 0.0, 1.0, 0.0))\n",
      "((0.0, 0.0, 1.0, 0.0), (0.0, 0.0, 1.0, 0.0), (0.0, 0.0, 0.0, 1.0), (0.0, 0.0, 0.0, 1.0), (0.0, 0.0, 0.0, 0.0), (0.0, 0.0, 1.0, 0.0), (0.0, 1.0, 0.0, 0.0), (0.0, 0.0, 0.0, 0.0))\n",
      "Gurobi Optimizer version 12.0.1 build v12.0.1rc0 (win64 - Windows 11.0 (22631.2))\n",
      "\n",
      "CPU model: 11th Gen Intel(R) Core(TM) i7-1185G7 @ 3.00GHz, instruction set [SSE2|AVX|AVX2|AVX512]\n",
      "Thread count: 4 physical cores, 8 logical processors, using up to 8 threads\n",
      "\n",
      "Optimize a model with 25 rows, 3 columns and 46 nonzeros\n",
      "Model fingerprint: 0x0dfa654e\n",
      "Coefficient statistics:\n",
      "  Matrix range     [1e+00, 1e+00]\n",
      "  Objective range  [1e+00, 1e+00]\n",
      "  Bounds range     [0e+00, 0e+00]\n",
      "  RHS range        [5e-01, 1e+00]\n",
      "Presolve removed 21 rows and 0 columns\n",
      "Presolve time: 0.01s\n",
      "Presolved: 4 rows, 3 columns, 9 nonzeros\n",
      "\n",
      "Iteration    Objective       Primal Inf.    Dual Inf.      Time\n",
      "       0    1.2115000e+00   1.640000e-01   0.000000e+00      0s\n",
      "       1    1.2320000e+00   0.000000e+00   0.000000e+00      0s\n",
      "\n",
      "Solved in 1 iterations and 0.01 seconds (0.00 work units)\n",
      "Optimal objective  1.232000000e+00\n",
      "Gurobi status= 2\n",
      "w_ 0 0.16400000000000003\n",
      "w_ 1 0.30799999999999994\n",
      "w_ 2 0.528\n",
      "{'Sum_to_one': 1.0, 'Mu_0_3': 0.0, 'Mu_0_2': 0.0, 'Mu_0_1': 0.25, 'Mu_1_2': 0.0, 'Mu_1_0': 0.0, 'Mu_2_1': 0.0, 'Mu_2_3': 0.0, 'Mu_2_2': 0.0, 'Mu_3_2': 0.0, 'Mu_3_1': 0.0, 'Mu_3_3': 0.0, 'Mu_3_0': 0.0, 'Mu_4_2': 0.0, 'Mu_5_2': 0.0, 'Mu_5_3': 0.0, 'Mu_5_1': 0.0, 'Mu_6_1': 0.0, 'Mu_6_3': 0.0, 'Mu_7_2': 0.0, 'Mu_7_1': 0.0, 'Mu_7_3': 0.125, 'GE0_0': 0.0, 'GE0_1': 0.0, 'GE0_2': 0.0}\n",
      "student  0\n",
      "  school  3 -0.125\n",
      "      school  3 0.0\n",
      "  school  2 -0.25\n",
      "      school  3 0.0\n",
      "      school  2 0.0\n",
      "  school  1 -0.375\n",
      "      school  3 0.0\n",
      "      school  2 0.0\n",
      "      school  1 0.25\n",
      "student  1\n",
      "  school  2 -0.125\n",
      "      school  2 0.0\n",
      "  school  0 -0.25\n",
      "      school  2 0.0\n",
      "      school  0 0.0\n",
      "student  2\n",
      "  school  1 -0.125\n",
      "      school  1 0.0\n",
      "  school  3 -0.25\n",
      "      school  1 0.0\n",
      "      school  3 0.0\n",
      "  school  2 -0.375\n",
      "      school  1 0.0\n",
      "      school  3 0.0\n",
      "      school  2 0.0\n",
      "student  3\n",
      "  school  2 -0.125\n",
      "      school  2 0.0\n",
      "  school  1 -0.25\n",
      "      school  2 0.0\n",
      "      school  1 0.0\n",
      "  school  3 -0.375\n",
      "      school  2 0.0\n",
      "      school  1 0.0\n",
      "      school  3 0.0\n",
      "  school  0 -0.5\n",
      "      school  2 0.0\n",
      "      school  1 0.0\n",
      "      school  3 0.0\n",
      "      school  0 0.0\n",
      "student  4\n",
      "  school  2 -0.125\n",
      "      school  2 0.0\n",
      "student  5\n",
      "  school  2 -0.125\n",
      "      school  2 0.0\n",
      "  school  3 -0.25\n",
      "      school  2 0.0\n",
      "      school  3 0.0\n",
      "  school  1 -0.375\n",
      "      school  2 0.0\n",
      "      school  3 0.0\n",
      "      school  1 0.0\n",
      "student  6\n",
      "  school  1 -0.125\n",
      "      school  1 0.0\n",
      "  school  3 -0.25\n",
      "      school  1 0.0\n",
      "      school  3 0.0\n",
      "student  7\n",
      "  school  2 -0.125\n",
      "      school  2 0.0\n",
      "  school  1 -0.25\n",
      "      school  2 0.0\n",
      "      school  1 0.0\n",
      "  school  3 -0.375\n",
      "      school  2 0.0\n",
      "      school  1 0.0\n",
      "      school  3 0.125\n",
      "-0.125*M_0,1 - 0.25*M_0,2 - 0.125*M_0,3 - 0.25*M_1,0 - 0.125*M_1,2 - 0.125*M_2,1 - 0.375*M_2,2 - 0.25*M_2,3 - 0.5*M_3,0 - 0.25*M_3,1 - 0.125*M_3,2 - 0.375*M_3,3 - 0.125*M_4,2 - 0.375*M_5,1 - 0.125*M_5,2 - 0.25*M_5,3 - 0.125*M_6,1 - 0.25*M_6,3 - 0.25*M_7,1 - 0.125*M_7,2 - 0.25*M_7,3\n",
      "\n",
      "\n",
      " ****** PRICING ****** \n",
      "\n",
      "\n",
      "Gurobi Optimizer version 12.0.1 build v12.0.1rc0 (win64 - Windows 11.0 (22631.2))\n",
      "\n",
      "CPU model: 11th Gen Intel(R) Core(TM) i7-1185G7 @ 3.00GHz, instruction set [SSE2|AVX|AVX2|AVX512]\n",
      "Thread count: 4 physical cores, 8 logical processors, using up to 8 threads\n",
      "\n",
      "Optimize a model with 33 rows, 22 columns and 147 nonzeros\n",
      "Model fingerprint: 0x6bac352f\n",
      "Variable types: 1 continuous, 21 integer (0 binary)\n",
      "Coefficient statistics:\n",
      "  Matrix range     [1e+00, 3e+00]\n",
      "  Objective range  [1e-01, 5e-01]\n",
      "  Bounds range     [1e+00, 1e+00]\n",
      "  RHS range        [1e+00, 3e+00]\n",
      "Found heuristic solution: objective -1.1250000\n",
      "Presolve removed 33 rows and 22 columns\n",
      "Presolve time: 0.00s\n",
      "Presolve: All rows and columns removed\n",
      "\n",
      "Explored 0 nodes (0 simplex iterations) in 0.01 seconds (0.00 work units)\n",
      "Thread count was 1 (of 8 available processors)\n",
      "\n",
      "Solution count 2: -1.25 -1.125 \n",
      "No other solutions better than -1.25\n",
      "\n",
      "Optimal solution found (tolerance 1.00e-04)\n",
      "Best objective -1.250000000000e+00, best bound -1.250000000000e+00, gap 0.0000%\n",
      "Gurobi status= 2\n",
      "Objective value:  -0.25\n",
      "Matching added.\n",
      "[[0. 0. 1. 0.]\n",
      " [0. 0. 1. 0.]\n",
      " [0. 0. 0. 1.]\n",
      " [0. 0. 0. 1.]\n",
      " [0. 0. 0. 0.]\n",
      " [0. 0. 1. 0.]\n",
      " [0. 1. 0. 0.]\n",
      " [0. 0. 0. 0.]]\n",
      "Process terminated after  1  iterations.\n"
     ]
    }
   ],
   "source": [
    "# Solve the formulations\n",
    "    # 'IMPR_RANK' refers to minimizing the expected rank while ensuring ex-post stability\n",
    "MyModel = ModelColumnGen(MyData, A, True)\n",
    "q = MyModel.Solve(\"TRAD\", \"GUROBI\", True)\n",
    "#q = MyModel.Solve(\"STABLE\", \"GUROBI\", True)"
   ]
  },
  {
   "cell_type": "code",
   "execution_count": 6,
   "metadata": {},
   "outputs": [
    {
     "name": "stdout",
     "output_type": "stream",
     "text": [
      "[[0.    0.164 0.528 0.   ]\n",
      " [0.    0.    1.    0.   ]\n",
      " [0.    0.    0.    1.   ]\n",
      " [0.    0.    0.    1.   ]\n",
      " [0.    0.    0.    0.   ]\n",
      " [0.    0.    1.    0.   ]\n",
      " [0.    0.836 0.    0.   ]\n",
      " [0.    0.    0.472 0.   ]]\n",
      "[array([[0., 1., 0., 0.],\n",
      "       [0., 0., 1., 0.],\n",
      "       [0., 0., 0., 1.],\n",
      "       [0., 0., 0., 1.],\n",
      "       [0., 0., 0., 0.],\n",
      "       [0., 0., 1., 0.],\n",
      "       [0., 0., 0., 0.],\n",
      "       [0., 0., 1., 0.]]), array([[0., 0., 0., 0.],\n",
      "       [0., 0., 1., 0.],\n",
      "       [0., 0., 0., 1.],\n",
      "       [0., 0., 0., 1.],\n",
      "       [0., 0., 0., 0.],\n",
      "       [0., 0., 1., 0.],\n",
      "       [0., 1., 0., 0.],\n",
      "       [0., 0., 1., 0.]]), array([[0., 0., 1., 0.],\n",
      "       [0., 0., 1., 0.],\n",
      "       [0., 0., 0., 1.],\n",
      "       [0., 0., 0., 1.],\n",
      "       [0., 0., 0., 0.],\n",
      "       [0., 0., 1., 0.],\n",
      "       [0., 1., 0., 0.],\n",
      "       [0., 0., 0., 0.]])]\n",
      "[0.16400000000000003, 0.30799999999999994, 0.528]\n"
     ]
    }
   ],
   "source": [
    "print(q.assignment)\n",
    "print(MyModel.Xdecomp)\n",
    "print(MyModel.Xdecomp_coeff)"
   ]
  },
  {
   "cell_type": "markdown",
   "metadata": {},
   "source": [
    "## Run initial IP on generated data\n",
    "Specify the number of students and schools, and run the models for this data."
   ]
  },
  {
   "cell_type": "code",
   "execution_count": null,
   "metadata": {},
   "outputs": [],
   "source": [
    "# Generate random data\n",
    "parameters = DataGenParam(mean_pref = 6, capacity_ratio = 1) # Default parameters, except for mean_pref and capacity_ratio\n",
    "#MyData = generate_data(n_students=400, n_schools=20, parameters = parameters, name=\"Test_DataGen\", print_data=False, seed = 15)\n",
    "MyData = generate_data(n_students=5, n_schools=4, parameters = parameters, name=\"Test_DataGen\", print_data=False, seed = 0)"
   ]
  },
  {
   "cell_type": "code",
   "execution_count": null,
   "metadata": {},
   "outputs": [],
   "source": [
    "# Print data if desired\n",
    "print(MyData)"
   ]
  },
  {
   "cell_type": "code",
   "execution_count": null,
   "metadata": {},
   "outputs": [],
   "source": [
    "# Generate the assignment from DA with Single Tie-Breaking with n_iter samples\n",
    "n_iter = 1000\n",
    "A = DA_STB(MyData, n_iter, 0, True)\n",
    "print(A.assignment)"
   ]
  },
  {
   "cell_type": "code",
   "execution_count": null,
   "metadata": {},
   "outputs": [],
   "source": [
    "# Solve the formulations\n",
    "    # 'IMPR_RANK' refers to minimizing the expected rank while ensuring ex-post stability\n",
    "    # 'STABLE' refers to maximizing the fraction of STABLE matchings in the decomposition\n",
    "MyModel = Model(MyData, A, True)\n",
    "q = MyModel.Solve(\"IMPR_RANK\", \"GUROBI\", True)\n",
    "#q = MyModel.Solve(\"STABLE\", \"GUROBI\", True)"
   ]
  },
  {
   "cell_type": "code",
   "execution_count": null,
   "metadata": {},
   "outputs": [],
   "source": [
    "# Print the solution\n",
    "MyModel.print_solution()"
   ]
  },
  {
   "cell_type": "code",
   "execution_count": null,
   "metadata": {},
   "outputs": [],
   "source": [
    "# Asses and visualize the difference\n",
    "diff = Assignment(MyData, q.assignment - A.assignment, \"TestDataGen_Diff\")\n",
    "diff.visualize()"
   ]
  },
  {
   "cell_type": "markdown",
   "metadata": {},
   "source": [
    "## Heuristic subset weakly stable matchings\n",
    "Runs an LP that minimizes the average rank while stochastically dominating the DA assignment with single-tie breaking, and while only using matchings that were used to compute DA probabilities. This is a heuristic."
   ]
  },
  {
   "cell_type": "code",
   "execution_count": null,
   "metadata": {},
   "outputs": [],
   "source": [
    "# Generate random data\n",
    "parameters = DataGenParam(mean_pref = 5, capacity_ratio = 1) # Default parameters, except for mean_pref and capacity_ratio\n",
    "#MyData = generate_data(n_students=400, n_schools=20, parameters = parameters, name=\"Test_DataGen\", print_data=False, seed = 15)\n",
    "MyData = generate_data(n_students=10, n_schools=4, parameters = parameters, name=\"500_25\", print_data=False, seed = 1)"
   ]
  },
  {
   "cell_type": "code",
   "execution_count": null,
   "metadata": {},
   "outputs": [],
   "source": [
    "# Print data if desired\n",
    "print(MyData)"
   ]
  },
  {
   "cell_type": "code",
   "execution_count": null,
   "metadata": {},
   "outputs": [],
   "source": [
    "# Generate the assignment from DA with Single Tie-Breaking with n_iter samples\n",
    "n_iter = 1000\n",
    "A = DA_STB(MyData, n_iter, 0, True)\n",
    "print(A.assignment)"
   ]
  },
  {
   "cell_type": "code",
   "execution_count": null,
   "metadata": {},
   "outputs": [],
   "source": [
    "# Solve the formulations\n",
    "    # 'IMPR_RANK' refers to minimizing the expected rank while ensuring ex-post stability\n",
    "MyModel = ModelHeuristicLP(MyData, A, True)\n",
    "q = MyModel.Solve(\"IMPR_RANK\", \"GUROBI\", True)\n",
    "#q = MyModel.Solve(\"STABLE\", \"GUROBI\", True)"
   ]
  },
  {
   "cell_type": "code",
   "execution_count": null,
   "metadata": {},
   "outputs": [],
   "source": [
    "# Print the solution\n",
    "MyModel.print_solution()"
   ]
  },
  {
   "cell_type": "code",
   "execution_count": null,
   "metadata": {},
   "outputs": [],
   "source": [
    "print(np.max(q.assignment-A.assignment))"
   ]
  },
  {
   "cell_type": "code",
   "execution_count": null,
   "metadata": {},
   "outputs": [],
   "source": [
    "# Asses and visualize the difference\n",
    "diff = Assignment(MyData, q.assignment - A.assignment, \"40_12_Diff\")\n",
    "diff.visualize()"
   ]
  },
  {
   "cell_type": "markdown",
   "metadata": {},
   "source": [
    "## Heuristic Fractional stable random matching"
   ]
  },
  {
   "cell_type": "code",
   "execution_count": null,
   "metadata": {},
   "outputs": [],
   "source": [
    "# Solve the formulations\n",
    "    # 'IMPR_RANK' refers to minimizing the expected rank while ensuring ex-post stability\n",
    "MyModelFS = ModelFracStable(MyData, A, True)\n",
    "q = MyModelFS.Solve(\"IMPR_RANK\", \"GUROBI\", True)\n",
    "#q = MyModel.Solve(\"STABLE\", \"GUROBI\", True)"
   ]
  },
  {
   "cell_type": "code",
   "execution_count": null,
   "metadata": {},
   "outputs": [],
   "source": [
    "# FInd decomposition over weakly stable matchings of this fractionally stable matching (if decomposition exists)\n",
    "MyModelCHECK = Model(MyData, q, True)\n",
    "q_check = MyModelCHECK.Solve(\"STABLE\", \"GUROBI\", True)"
   ]
  },
  {
   "cell_type": "markdown",
   "metadata": {},
   "source": [
    "## Run code manual data\n",
    "Manually enter data."
   ]
  },
  {
   "cell_type": "code",
   "execution_count": null,
   "metadata": {},
   "outputs": [],
   "source": [
    "# Define preferences of the students\n",
    "# 'pref[i][k]' contains the position of the k-th ranked school in the preferences.\n",
    "# We assume the preferences to be strict\n",
    "# Note that preferences can be strict. We indicate this by a tuple () in the list.\n",
    "\n",
    "# Example paper\n",
    "n_stud = 4\n",
    "n_schools = 4\n",
    "\n",
    "file_name = \"Ex_paper\"\n",
    "\n",
    "# Preferences students\n",
    "pref = [['1', '3', '4', '2'],\n",
    "       ['1','4','3','2'],\n",
    "       # ['1', '4'],\n",
    "       ['2','3', '4', '1'],\n",
    "       ['2', '4', '3', '1']]\n",
    "\n",
    "# Priorities schools\n",
    "prior = [[('A', 'B'), 'C', 'D'],\n",
    "        [('C', 'D'), 'A', 'B'],\n",
    "        ['B', 'D', ('A', 'C')],\n",
    "        ['A', 'C', ('B', 'D')]]\n",
    "\n",
    "\n",
    "# Capacities schools\n",
    "cap = [1,1,1,1]\n",
    "\n",
    "# Names of students and schools\n",
    "ID_stud = [\"A\", \"B\", \"C\", \"D\"]\n",
    "ID_school = [\"1\", \"2\", \"3\", \"4\"]\n",
    "\n",
    "# Also create the random matching upon which we want to improve\n",
    "p = np.zeros(shape=(n_stud, n_schools))\n",
    "p[0][0] = 1/2\n",
    "p[1][0] = 1/2\n",
    "p[2][1] = 1/2\n",
    "p[3][1] = 1/2\n",
    "p[0][2] = 3/8\n",
    "p[2][2] = 3/8\n",
    "p[1][3] = 3/8\n",
    "p[3][3] = 3/8\n",
    "p[0][3] = 1/8\n",
    "p[2][3] = 1/8\n",
    "p[1][2] = 1/8\n",
    "p[3][2] = 1/8"
   ]
  },
  {
   "cell_type": "code",
   "execution_count": null,
   "metadata": {},
   "outputs": [],
   "source": [
    "# Generate a data instance (and print it)\n",
    "MyData = Data(n_stud, n_schools, pref, prior, cap, ID_stud, ID_school, file_name)\n",
    "print(MyData)"
   ]
  },
  {
   "cell_type": "code",
   "execution_count": null,
   "metadata": {},
   "outputs": [],
   "source": [
    "# Generate an Assignment instance (and visualize it)\n",
    "A = Assignment(MyData, p, \"Ex_paper\")\n",
    "\n",
    "# To visualize assignment\n",
    "A.visualize()"
   ]
  },
  {
   "cell_type": "code",
   "execution_count": null,
   "metadata": {},
   "outputs": [],
   "source": [
    "# Solve the formulations\n",
    "    # 'IMPR_RANK' refers to minimizing the expected rank while ensuring ex-post stability\n",
    "    # 'STABLE' refers to maximizing the fraction of STABLE matchings in the decomposition\n",
    "MyModel = Model(MyData, A, False)\n",
    "q = MyModel.Solve(\"IMPR_RANK\", \"GUROBI\", False)\n",
    "#q = MyModel.Solve(\"STABLE\", \"GUROBI\", True)"
   ]
  },
  {
   "cell_type": "code",
   "execution_count": null,
   "metadata": {},
   "outputs": [],
   "source": [
    "# Print the solution\n",
    "MyModel.print_solution()"
   ]
  },
  {
   "cell_type": "code",
   "execution_count": null,
   "metadata": {},
   "outputs": [],
   "source": [
    "# Asses and visualize the difference\n",
    "diff = Assignment(MyData, q.assignment - p, \"Ex_paper_Diff\")\n",
    "diff.visualize()"
   ]
  },
  {
   "cell_type": "code",
   "execution_count": null,
   "metadata": {},
   "outputs": [],
   "source": [
    "tuple([1,2])"
   ]
  },
  {
   "cell_type": "code",
   "execution_count": null,
   "metadata": {},
   "outputs": [],
   "source": []
  }
 ],
 "metadata": {
  "kernelspec": {
   "display_name": "base",
   "language": "python",
   "name": "python3"
  },
  "language_info": {
   "codemirror_mode": {
    "name": "ipython",
    "version": 3
   },
   "file_extension": ".py",
   "mimetype": "text/x-python",
   "name": "python",
   "nbconvert_exporter": "python",
   "pygments_lexer": "ipython3",
   "version": "3.12.7"
  }
 },
 "nbformat": 4,
 "nbformat_minor": 2
}
