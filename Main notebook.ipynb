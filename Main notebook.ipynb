{
 "cells": [
  {
   "cell_type": "markdown",
   "metadata": {},
   "source": [
    "## Import code"
   ]
  },
  {
   "cell_type": "code",
   "execution_count": 1,
   "metadata": {},
   "outputs": [],
   "source": [
    "from src.Data import * # Class containing the data\n",
    "from src.Assignment import * # Class containing an assignment\n",
    "from src.Model import * # Class containing a Pulp model used for optimization\n",
    "from src.ModelColumnGen import * # Class containing Pulp model that optimizes using column generation\n",
    "from src.ModelFracStable import * # Class containing a Pulp model for finding an fractionally stable stochastic improvement\n",
    "from src.ModelHeuristicLP import * # Class containing heuristic that will use generated weakly stable matchings as an input\n",
    "from src.DataGen import * # Generate student preferences and school priorities\n",
    "from src.DA_STB import * # Generate DA assignment with single tie-breaking (STB)"
   ]
  },
  {
   "cell_type": "markdown",
   "metadata": {},
   "source": [
    "## Column generation formulation"
   ]
  },
  {
   "cell_type": "code",
   "execution_count": 2,
   "metadata": {},
   "outputs": [],
   "source": [
    "# Generate random data\n",
    "parameters = DataGenParam(mean_pref = 5, capacity_ratio = 1) # Default parameters, except for mean_pref and capacity_ratio\n",
    "#MyData = generate_data(n_students=400, n_schools=20, parameters = parameters, name=\"Test_DataGen\", print_data=False, seed = 15)\n",
    "MyData = generate_data(n_students=10, n_schools=4, parameters = parameters, name=\"500_25\", print_data=False, seed = 1)"
   ]
  },
  {
   "cell_type": "code",
   "execution_count": 3,
   "metadata": {},
   "outputs": [
    {
     "name": "stdout",
     "output_type": "stream",
     "text": [
      "The data instance has the following properties: \n",
      "\n",
      "\t10 students.\n",
      "\t4 schools. \n",
      "\n",
      " \tPREFERENCES:\n",
      "\t0\t0 1 3 2 \n",
      "\t1\t1 3 2 0 \n",
      "\t2\t1 0 2 3 \n",
      "\t3\t1 0 3 2 \n",
      "\t4\t2 3 0 1 \n",
      "\t5\t1 0 3 2 \n",
      "\t6\t1 0 3 2 \n",
      "\t7\t1 3 0 2 \n",
      "\t8\t2 3 0 1 \n",
      "\t9\t0 1 3 2 \n",
      "\n",
      "\n",
      " \tCAPACITIES & PRIORITIES:\n",
      "\t0\t3\t{1 7 8} {4 5 0} {3 6 9 2} \n",
      "\t1\t4\t{7 8 2} {4 6 0} {3 5 9 1} \n",
      "\t2\t3\t{3 6 1} {4 9 2} {8 5 0 7} \n",
      "\t3\t1\t{0 4 7} {9 6 5} {8 3 1 2} \n",
      "\n"
     ]
    }
   ],
   "source": [
    "# Print data if desired\n",
    "print(MyData)"
   ]
  },
  {
   "cell_type": "code",
   "execution_count": 4,
   "metadata": {},
   "outputs": [
    {
     "name": "stdout",
     "output_type": "stream",
     "text": [
      "Students in ties: 10\n",
      "Tie-breaking rules needed: 3628800\n",
      "Tie-breaking rules sampled: 1000\n"
     ]
    },
    {
     "name": "stderr",
     "output_type": "stream",
     "text": [
      "100%|██████████| 1000/1000 [00:00<00:00, 3590.33it/s]"
     ]
    },
    {
     "name": "stdout",
     "output_type": "stream",
     "text": [
      "[[1.    0.    0.    0.   ]\n",
      " [0.    0.354 0.    0.646]\n",
      " [0.    1.    0.    0.   ]\n",
      " [0.467 0.312 0.    0.221]\n",
      " [0.    0.    1.    0.   ]\n",
      " [0.666 0.334 0.    0.   ]\n",
      " [0.    1.    0.    0.   ]\n",
      " [0.    1.    0.    0.   ]\n",
      " [0.    0.    1.    0.   ]\n",
      " [0.867 0.    0.    0.133]]\n"
     ]
    },
    {
     "name": "stderr",
     "output_type": "stream",
     "text": [
      "\n"
     ]
    }
   ],
   "source": [
    "# Generate the assignment from DA with Single Tie-Breaking with n_iter samples\n",
    "n_iter = 1000\n",
    "A = DA_STB(MyData, n_iter, 0, True)\n",
    "print(A.assignment)"
   ]
  },
  {
   "cell_type": "code",
   "execution_count": 5,
   "metadata": {},
   "outputs": [
    {
     "name": "stdout",
     "output_type": "stream",
     "text": [
      "4\n"
     ]
    }
   ],
   "source": [
    "# Solve the formulations\n",
    "    # 'IMPR_RANK' refers to minimizing the expected rank while ensuring ex-post stability\n",
    "MyModel = ModelColumnGen(MyData, A, True)\n",
    "#q = MyModel.Solve(\"IMPR_RANK\", \"GUROBI\", True)\n",
    "#q = MyModel.Solve(\"STABLE\", \"GUROBI\", True)"
   ]
  },
  {
   "cell_type": "markdown",
   "metadata": {},
   "source": [
    "## Run initial IP on generated data\n",
    "Specify the number of students and schools, and run the models for this data."
   ]
  },
  {
   "cell_type": "code",
   "execution_count": null,
   "metadata": {},
   "outputs": [],
   "source": [
    "# Generate random data\n",
    "parameters = DataGenParam(mean_pref = 6, capacity_ratio = 1) # Default parameters, except for mean_pref and capacity_ratio\n",
    "#MyData = generate_data(n_students=400, n_schools=20, parameters = parameters, name=\"Test_DataGen\", print_data=False, seed = 15)\n",
    "MyData = generate_data(n_students=5, n_schools=4, parameters = parameters, name=\"Test_DataGen\", print_data=False, seed = 0)"
   ]
  },
  {
   "cell_type": "code",
   "execution_count": null,
   "metadata": {},
   "outputs": [],
   "source": [
    "# Print data if desired\n",
    "print(MyData)"
   ]
  },
  {
   "cell_type": "code",
   "execution_count": null,
   "metadata": {},
   "outputs": [],
   "source": [
    "# Generate the assignment from DA with Single Tie-Breaking with n_iter samples\n",
    "n_iter = 1000\n",
    "A = DA_STB(MyData, n_iter, 0, True)\n",
    "print(A.assignment)"
   ]
  },
  {
   "cell_type": "code",
   "execution_count": null,
   "metadata": {},
   "outputs": [],
   "source": [
    "# Solve the formulations\n",
    "    # 'IMPR_RANK' refers to minimizing the expected rank while ensuring ex-post stability\n",
    "    # 'STABLE' refers to maximizing the fraction of STABLE matchings in the decomposition\n",
    "MyModel = Model(MyData, A, True)\n",
    "q = MyModel.Solve(\"IMPR_RANK\", \"GUROBI\", True)\n",
    "#q = MyModel.Solve(\"STABLE\", \"GUROBI\", True)"
   ]
  },
  {
   "cell_type": "code",
   "execution_count": null,
   "metadata": {},
   "outputs": [],
   "source": [
    "# Print the solution\n",
    "MyModel.print_solution()"
   ]
  },
  {
   "cell_type": "code",
   "execution_count": null,
   "metadata": {},
   "outputs": [],
   "source": [
    "# Asses and visualize the difference\n",
    "diff = Assignment(MyData, q.assignment - A.assignment, \"TestDataGen_Diff\")\n",
    "diff.visualize()"
   ]
  },
  {
   "cell_type": "markdown",
   "metadata": {},
   "source": [
    "## Heuristic subset weakly stable matchings\n",
    "Runs an LP that minimizes the average rank while stochastically dominating the DA assignment with single-tie breaking, and while only using matchings that were used to compute DA probabilities. This is a heuristic."
   ]
  },
  {
   "cell_type": "code",
   "execution_count": 23,
   "metadata": {},
   "outputs": [],
   "source": [
    "# Generate random data\n",
    "parameters = DataGenParam(mean_pref = 5, capacity_ratio = 1) # Default parameters, except for mean_pref and capacity_ratio\n",
    "#MyData = generate_data(n_students=400, n_schools=20, parameters = parameters, name=\"Test_DataGen\", print_data=False, seed = 15)\n",
    "MyData = generate_data(n_students=10, n_schools=4, parameters = parameters, name=\"500_25\", print_data=False, seed = 1)"
   ]
  },
  {
   "cell_type": "code",
   "execution_count": 24,
   "metadata": {},
   "outputs": [
    {
     "name": "stdout",
     "output_type": "stream",
     "text": [
      "The data instance has the following properties: \n",
      "\n",
      "\t10 students.\n",
      "\t4 schools. \n",
      "\n",
      " \tPREFERENCES:\n",
      "\t0\t0 1 3 2 \n",
      "\t1\t1 3 2 0 \n",
      "\t2\t1 0 2 3 \n",
      "\t3\t1 0 3 2 \n",
      "\t4\t2 3 0 1 \n",
      "\t5\t1 0 3 2 \n",
      "\t6\t1 0 3 2 \n",
      "\t7\t1 3 0 2 \n",
      "\t8\t2 3 0 1 \n",
      "\t9\t0 1 3 2 \n",
      "\n",
      "\n",
      " \tCAPACITIES & PRIORITIES:\n",
      "\t0\t3\t{1 7 8} {4 5 0} {3 6 9 2} \n",
      "\t1\t4\t{7 8 2} {4 6 0} {3 5 9 1} \n",
      "\t2\t3\t{3 6 1} {4 9 2} {8 5 0 7} \n",
      "\t3\t1\t{0 4 7} {9 6 5} {8 3 1 2} \n",
      "\n"
     ]
    }
   ],
   "source": [
    "# Print data if desired\n",
    "print(MyData)"
   ]
  },
  {
   "cell_type": "code",
   "execution_count": 25,
   "metadata": {},
   "outputs": [
    {
     "name": "stdout",
     "output_type": "stream",
     "text": [
      "Students in ties: 10\n",
      "Tie-breaking rules needed: 3628800\n",
      "Tie-breaking rules sampled: 1000\n"
     ]
    },
    {
     "name": "stderr",
     "output_type": "stream",
     "text": [
      "100%|██████████| 1000/1000 [00:00<00:00, 1538.69it/s]"
     ]
    },
    {
     "name": "stdout",
     "output_type": "stream",
     "text": [
      "[[1.    0.    0.    0.   ]\n",
      " [0.    0.354 0.    0.646]\n",
      " [0.    1.    0.    0.   ]\n",
      " [0.467 0.312 0.    0.221]\n",
      " [0.    0.    1.    0.   ]\n",
      " [0.666 0.334 0.    0.   ]\n",
      " [0.    1.    0.    0.   ]\n",
      " [0.    1.    0.    0.   ]\n",
      " [0.    0.    1.    0.   ]\n",
      " [0.867 0.    0.    0.133]]\n"
     ]
    },
    {
     "name": "stderr",
     "output_type": "stream",
     "text": [
      "\n"
     ]
    }
   ],
   "source": [
    "# Generate the assignment from DA with Single Tie-Breaking with n_iter samples\n",
    "n_iter = 1000\n",
    "A = DA_STB(MyData, n_iter, 0, True)\n",
    "print(A.assignment)"
   ]
  },
  {
   "cell_type": "code",
   "execution_count": 26,
   "metadata": {},
   "outputs": [
    {
     "name": "stdout",
     "output_type": "stream",
     "text": [
      "\n",
      "Average rank before optimization: 1.2487000000000001.\n",
      "\n",
      "\n",
      "Set parameter Username\n",
      "Set parameter LicenseID to value 2595965\n",
      "Academic license - for non-commercial use only - expires 2025-12-05\n",
      "Gurobi Optimizer version 12.0.0 build v12.0.0rc1 (win64 - Windows 11.0 (22631.2))\n",
      "\n",
      "CPU model: 11th Gen Intel(R) Core(TM) i7-1185G7 @ 3.00GHz, instruction set [SSE2|AVX|AVX2|AVX512]\n",
      "Thread count: 4 physical cores, 8 logical processors, using up to 8 threads\n",
      "\n",
      "Optimize a model with 41 rows, 4 columns and 153 nonzeros\n",
      "Model fingerprint: 0x58750cf5\n",
      "Coefficient statistics:\n",
      "  Matrix range     [1e+00, 1e+00]\n",
      "  Objective range  [1e+00, 1e+00]\n",
      "  Bounds range     [1e+00, 1e+00]\n",
      "  RHS range        [3e-01, 1e+00]\n",
      "Presolve removed 37 rows and 1 columns\n",
      "Presolve time: 0.02s\n",
      "Presolved: 4 rows, 3 columns, 9 nonzeros\n",
      "\n",
      "Iteration    Objective       Primal Inf.    Dual Inf.      Time\n",
      "       0    1.2000000e+00   3.540000e-01   0.000000e+00      0s\n",
      "       2    1.2487000e+00   0.000000e+00   0.000000e+00      0s\n",
      "\n",
      "Solved in 2 iterations and 0.02 seconds (0.00 work units)\n",
      "Optimal objective  1.248700000e+00\n",
      "Gurobi status= 2\n"
     ]
    }
   ],
   "source": [
    "# Solve the formulations\n",
    "    # 'IMPR_RANK' refers to minimizing the expected rank while ensuring ex-post stability\n",
    "MyModel = ModelHeuristicLP(MyData, A, True)\n",
    "q = MyModel.Solve(\"IMPR_RANK\", \"GUROBI\", True)\n",
    "#q = MyModel.Solve(\"STABLE\", \"GUROBI\", True)"
   ]
  },
  {
   "cell_type": "code",
   "execution_count": null,
   "metadata": {},
   "outputs": [],
   "source": [
    "# Print the solution\n",
    "MyModel.print_solution()"
   ]
  },
  {
   "cell_type": "code",
   "execution_count": null,
   "metadata": {},
   "outputs": [],
   "source": [
    "print(np.max(q.assignment-A.assignment))"
   ]
  },
  {
   "cell_type": "code",
   "execution_count": null,
   "metadata": {},
   "outputs": [],
   "source": [
    "# Asses and visualize the difference\n",
    "diff = Assignment(MyData, q.assignment - A.assignment, \"40_12_Diff\")\n",
    "diff.visualize()"
   ]
  },
  {
   "cell_type": "markdown",
   "metadata": {},
   "source": [
    "## Heuristic Fractional stable random matching"
   ]
  },
  {
   "cell_type": "code",
   "execution_count": null,
   "metadata": {},
   "outputs": [],
   "source": [
    "# Solve the formulations\n",
    "    # 'IMPR_RANK' refers to minimizing the expected rank while ensuring ex-post stability\n",
    "MyModelFS = ModelFracStable(MyData, A, True)\n",
    "q = MyModelFS.Solve(\"IMPR_RANK\", \"GUROBI\", True)\n",
    "#q = MyModel.Solve(\"STABLE\", \"GUROBI\", True)"
   ]
  },
  {
   "cell_type": "code",
   "execution_count": null,
   "metadata": {},
   "outputs": [],
   "source": [
    "# FInd decomposition over weakly stable matchings of this fractionally stable matching (if decomposition exists)\n",
    "MyModelCHECK = Model(MyData, q, True)\n",
    "q_check = MyModelCHECK.Solve(\"STABLE\", \"GUROBI\", True)"
   ]
  },
  {
   "cell_type": "markdown",
   "metadata": {},
   "source": [
    "## Run code manual data\n",
    "Manually enter data."
   ]
  },
  {
   "cell_type": "code",
   "execution_count": null,
   "metadata": {},
   "outputs": [],
   "source": [
    "# Define preferences of the students\n",
    "# 'pref[i][k]' contains the position of the k-th ranked school in the preferences.\n",
    "# We assume the preferences to be strict\n",
    "# Note that preferences can be strict. We indicate this by a tuple () in the list.\n",
    "\n",
    "# Example paper\n",
    "n_stud = 4\n",
    "n_schools = 4\n",
    "\n",
    "file_name = \"Ex_paper\"\n",
    "\n",
    "# Preferences students\n",
    "pref = [['1', '3', '4', '2'],\n",
    "       ['1','4','3','2'],\n",
    "       # ['1', '4'],\n",
    "       ['2','3', '4', '1'],\n",
    "       ['2', '4', '3', '1']]\n",
    "\n",
    "# Priorities schools\n",
    "prior = [[('A', 'B'), 'C', 'D'],\n",
    "        [('C', 'D'), 'A', 'B'],\n",
    "        ['B', 'D', ('A', 'C')],\n",
    "        ['A', 'C', ('B', 'D')]]\n",
    "\n",
    "\n",
    "# Capacities schools\n",
    "cap = [1,1,1,1]\n",
    "\n",
    "# Names of students and schools\n",
    "ID_stud = [\"A\", \"B\", \"C\", \"D\"]\n",
    "ID_school = [\"1\", \"2\", \"3\", \"4\"]\n",
    "\n",
    "# Also create the random matching upon which we want to improve\n",
    "p = np.zeros(shape=(n_stud, n_schools))\n",
    "p[0][0] = 1/2\n",
    "p[1][0] = 1/2\n",
    "p[2][1] = 1/2\n",
    "p[3][1] = 1/2\n",
    "p[0][2] = 3/8\n",
    "p[2][2] = 3/8\n",
    "p[1][3] = 3/8\n",
    "p[3][3] = 3/8\n",
    "p[0][3] = 1/8\n",
    "p[2][3] = 1/8\n",
    "p[1][2] = 1/8\n",
    "p[3][2] = 1/8"
   ]
  },
  {
   "cell_type": "code",
   "execution_count": null,
   "metadata": {},
   "outputs": [],
   "source": [
    "# Generate a data instance (and print it)\n",
    "MyData = Data(n_stud, n_schools, pref, prior, cap, ID_stud, ID_school, file_name)\n",
    "print(MyData)"
   ]
  },
  {
   "cell_type": "code",
   "execution_count": null,
   "metadata": {},
   "outputs": [],
   "source": [
    "# Generate an Assignment instance (and visualize it)\n",
    "A = Assignment(MyData, p, \"Ex_paper\")\n",
    "\n",
    "# To visualize assignment\n",
    "A.visualize()"
   ]
  },
  {
   "cell_type": "code",
   "execution_count": null,
   "metadata": {},
   "outputs": [],
   "source": [
    "# Solve the formulations\n",
    "    # 'IMPR_RANK' refers to minimizing the expected rank while ensuring ex-post stability\n",
    "    # 'STABLE' refers to maximizing the fraction of STABLE matchings in the decomposition\n",
    "MyModel = Model(MyData, A, False)\n",
    "q = MyModel.Solve(\"IMPR_RANK\", \"GUROBI\", False)\n",
    "#q = MyModel.Solve(\"STABLE\", \"GUROBI\", True)"
   ]
  },
  {
   "cell_type": "code",
   "execution_count": null,
   "metadata": {},
   "outputs": [],
   "source": [
    "# Print the solution\n",
    "MyModel.print_solution()"
   ]
  },
  {
   "cell_type": "code",
   "execution_count": null,
   "metadata": {},
   "outputs": [],
   "source": [
    "# Asses and visualize the difference\n",
    "diff = Assignment(MyData, q.assignment - p, \"Ex_paper_Diff\")\n",
    "diff.visualize()"
   ]
  },
  {
   "cell_type": "code",
   "execution_count": null,
   "metadata": {},
   "outputs": [],
   "source": [
    "tuple([1,2])"
   ]
  },
  {
   "cell_type": "code",
   "execution_count": null,
   "metadata": {},
   "outputs": [],
   "source": []
  }
 ],
 "metadata": {
  "kernelspec": {
   "display_name": "base",
   "language": "python",
   "name": "python3"
  },
  "language_info": {
   "codemirror_mode": {
    "name": "ipython",
    "version": 3
   },
   "file_extension": ".py",
   "mimetype": "text/x-python",
   "name": "python",
   "nbconvert_exporter": "python",
   "pygments_lexer": "ipython3",
   "version": "3.12.4"
  }
 },
 "nbformat": 4,
 "nbformat_minor": 2
}
