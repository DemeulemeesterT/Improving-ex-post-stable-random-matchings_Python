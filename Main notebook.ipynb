{
 "cells": [
  {
   "cell_type": "markdown",
   "metadata": {},
   "source": [
    "## Import code"
   ]
  },
  {
   "cell_type": "code",
   "execution_count": 22,
   "metadata": {},
   "outputs": [],
   "source": [
    "from src.Data import * # Class containing the data\n",
    "from src.Assignment import * # Class containing an assignment\n",
    "from src.Model import * # Class containing a Pulp model used for optimization\n",
    "from src.ModelFracStrong import * # Class containing a Pulp model for finding an fractionally strongly stable stochastic improvement\n",
    "from src.DataGen import * # Generate student preferences and school priorities\n",
    "from src.DA_STB import * # Generate DA assignment with single tie-breaking (STB)"
   ]
  },
  {
   "cell_type": "markdown",
   "metadata": {},
   "source": [
    "## Run code generated data\n",
    "Specify the number of students and schools, and run the models for this data."
   ]
  },
  {
   "cell_type": "code",
   "execution_count": 16,
   "metadata": {},
   "outputs": [],
   "source": [
    "# Generate random data\n",
    "parameters = DataGenParam(mean_pref = 6, capacity_ratio = 1) # Default parameters, except for mean_pref and capacity_ratio\n",
    "MyData = generate_data(n_students=6, n_schools=6, parameters = parameters, name=\"Test_DataGen\", print_data=False, seed = 15)"
   ]
  },
  {
   "cell_type": "code",
   "execution_count": 17,
   "metadata": {},
   "outputs": [
    {
     "name": "stdout",
     "output_type": "stream",
     "text": [
      "The data instance has the following properties: \n",
      "\n",
      "\t6 students.\n",
      "\t6 schools. \n",
      "\n",
      " \tPREFERENCES:\n",
      "\t0\t2 5 3 4 1 0 \n",
      "\t1\t3 4 1 5 2 0 \n",
      "\t2\t1 3 4 2 5 0 \n",
      "\t3\t1 3 4 2 5 0 \n",
      "\t4\t3 1 2 5 4 0 \n",
      "\t5\t4 3 1 2 5 0 \n",
      "\n",
      "\n",
      " \tCAPACITIES & PRIORITIES:\n",
      "\t0\t1\t{5 2} {1 3} {0 4} \n",
      "\t1\t1\t{1 3} {4 0} {2 5} \n",
      "\t2\t1\t{3 5} {1 2} {4 0} \n",
      "\t3\t1\t{5 2} {3 4} {1 0} \n",
      "\t4\t2\t{2 4} {3 5} {1 0} \n",
      "\t5\t2\t{3 1} {4 2} {0 5} \n",
      "\n"
     ]
    }
   ],
   "source": [
    "# Print data if desired\n",
    "print(MyData)"
   ]
  },
  {
   "cell_type": "code",
   "execution_count": 18,
   "metadata": {},
   "outputs": [
    {
     "name": "stdout",
     "output_type": "stream",
     "text": [
      "Students in ties: 6\n",
      "Tie-breaking rules needed: 720\n",
      "Tie-breaking rules sampled: 720\n"
     ]
    },
    {
     "name": "stderr",
     "output_type": "stream",
     "text": [
      "100%|██████████| 720/720 [00:00<00:00, 3320.06it/s]"
     ]
    },
    {
     "name": "stdout",
     "output_type": "stream",
     "text": [
      "[[0.  0.  0.5 0.  0.  0.5]\n",
      " [0.  0.  0.  0.  1.  0. ]\n",
      " [0.  0.  0.  1.  0.  0. ]\n",
      " [0.  1.  0.  0.  0.  0. ]\n",
      " [0.  0.  0.5 0.  0.  0.5]\n",
      " [0.  0.  0.  0.  1.  0. ]]\n"
     ]
    },
    {
     "name": "stderr",
     "output_type": "stream",
     "text": [
      "\n"
     ]
    }
   ],
   "source": [
    "# Generate the assignment from DA with Single Tie-Breaking with n_iter samples\n",
    "n_iter = 1000\n",
    "A = DA_STB(MyData, n_iter, 0, True)\n",
    "print(A.assignment)"
   ]
  },
  {
   "cell_type": "code",
   "execution_count": 20,
   "metadata": {},
   "outputs": [
    {
     "name": "stdout",
     "output_type": "stream",
     "text": [
      "\n",
      "Average rank before optimization: 1.8333333333333333.\n",
      "\n",
      "\n",
      "Set parameter Username\n",
      "Set parameter LicenseID to value 2595965\n",
      "Academic license - for non-commercial use only - expires 2025-12-05\n",
      "Gurobi Optimizer version 12.0.0 build v12.0.0rc1 (win64 - Windows 11.0 (22631.2))\n",
      "\n",
      "CPU model: 11th Gen Intel(R) Core(TM) i7-1185G7 @ 3.00GHz, instruction set [SSE2|AVX|AVX2|AVX512]\n",
      "Thread count: 4 physical cores, 8 logical processors, using up to 8 threads\n",
      "\n",
      "Optimize a model with 5845 rows, 2737 columns and 22177 nonzeros\n",
      "Model fingerprint: 0x77399837\n",
      "Variable types: 1405 continuous, 1332 integer (0 binary)\n",
      "Coefficient statistics:\n",
      "  Matrix range     [1e+00, 2e+00]\n",
      "  Objective range  [2e-01, 1e+00]\n",
      "  Bounds range     [1e+00, 1e+00]\n",
      "  RHS range        [5e-01, 2e+00]\n",
      "Presolve removed 4461 rows and 2137 columns\n",
      "Presolve time: 0.04s\n",
      "Presolved: 1384 rows, 600 columns, 3675 nonzeros\n",
      "Variable types: 489 continuous, 111 integer (111 binary)\n",
      "Found heuristic solution: objective 1.8333333\n",
      "\n",
      "Root relaxation: objective 1.666667e+00, 108 iterations, 0.00 seconds (0.00 work units)\n",
      "\n",
      "    Nodes    |    Current Node    |     Objective Bounds      |     Work\n",
      " Expl Unexpl |  Obj  Depth IntInf | Incumbent    BestBd   Gap | It/Node Time\n",
      "\n",
      "     0     0    1.66667    0    5    1.83333    1.66667  9.09%     -    0s\n",
      "     0     0    1.66667    0    2    1.83333    1.66667  9.09%     -    0s\n",
      "     0     0    1.66667    0    3    1.83333    1.66667  9.09%     -    0s\n",
      "\n",
      "Explored 1 nodes (186 simplex iterations) in 0.16 seconds (0.08 work units)\n",
      "Thread count was 8 (of 8 available processors)\n",
      "\n",
      "Solution count 1: 1.83333 \n",
      "\n",
      "Optimal solution found (tolerance 1.00e-04)\n",
      "Best objective 1.833333333333e+00, best bound 1.833333333333e+00, gap 0.0000%\n",
      "Gurobi status= 2\n"
     ]
    }
   ],
   "source": [
    "# Solve the formulations\n",
    "    # 'IMPR_RANK' refers to minimizing the expected rank while ensuring ex-post stability\n",
    "    # 'STABLE' refers to maximizing the fraction of STABLE matchings in the decomposition\n",
    "MyModel = Model(MyData, A, True)\n",
    "q = MyModel.Solve(\"IMPR_RANK\", \"GUROBI\", True)\n",
    "#q = MyModel.Solve(\"STABLE\", \"GUROBI\", True)"
   ]
  },
  {
   "cell_type": "code",
   "execution_count": null,
   "metadata": {},
   "outputs": [],
   "source": [
    "# Print the solution\n",
    "MyModel.print_solution()"
   ]
  },
  {
   "cell_type": "code",
   "execution_count": null,
   "metadata": {},
   "outputs": [],
   "source": [
    "# Asses and visualize the difference\n",
    "diff = Assignment(MyData, q.assignment - A.assignment, \"TestDataGen_Diff\")\n",
    "diff.visualize()"
   ]
  },
  {
   "cell_type": "markdown",
   "metadata": {},
   "source": [
    "## Heuristic Fractional strongly stable random matching"
   ]
  },
  {
   "cell_type": "code",
   "execution_count": 23,
   "metadata": {},
   "outputs": [
    {
     "ename": "AttributeError",
     "evalue": "'ModelFracStrong' object has no attribute 'M'",
     "output_type": "error",
     "traceback": [
      "\u001b[1;31m---------------------------------------------------------------------------\u001b[0m",
      "\u001b[1;31mAttributeError\u001b[0m                            Traceback (most recent call last)",
      "Cell \u001b[1;32mIn[23], line 3\u001b[0m\n\u001b[0;32m      1\u001b[0m \u001b[38;5;66;03m# Solve the formulations\u001b[39;00m\n\u001b[0;32m      2\u001b[0m     \u001b[38;5;66;03m# 'IMPR_RANK' refers to minimizing the expected rank while ensuring ex-post stability\u001b[39;00m\n\u001b[1;32m----> 3\u001b[0m MyModelFS \u001b[38;5;241m=\u001b[39m ModelFracStrong(MyData, A, \u001b[38;5;28;01mTrue\u001b[39;00m)\n\u001b[0;32m      4\u001b[0m q \u001b[38;5;241m=\u001b[39m MyModelFS\u001b[38;5;241m.\u001b[39mSolve(\u001b[38;5;124m\"\u001b[39m\u001b[38;5;124mIMPR_RANK\u001b[39m\u001b[38;5;124m\"\u001b[39m, \u001b[38;5;124m\"\u001b[39m\u001b[38;5;124mGUROBI\u001b[39m\u001b[38;5;124m\"\u001b[39m, \u001b[38;5;28;01mTrue\u001b[39;00m)\n",
      "File \u001b[1;32mc:\\Users\\tdemeule\\OneDrive - Université de Lausanne\\Academia\\'Research'\\2025_Ex-post stability Péter\\Improving-ex-post-stable-random-matchings_Python\\src\\ModelFracStrong.py:85\u001b[0m, in \u001b[0;36mModelFracStrong.__init__\u001b[1;34m(self, MyData, p, print_out, nr_matchings)\u001b[0m\n\u001b[0;32m      0\u001b[0m <Error retrieving source code with stack_data see ipython/ipython#13598>\n",
      "\u001b[1;31mAttributeError\u001b[0m: 'ModelFracStrong' object has no attribute 'M'"
     ]
    }
   ],
   "source": [
    "# Solve the formulations\n",
    "    # 'IMPR_RANK' refers to minimizing the expected rank while ensuring ex-post stability\n",
    "MyModelFS = ModelFracStrong(MyData, A, True)\n",
    "q = MyModelFS.Solve(\"IMPR_RANK\", \"GUROBI\", True)\n",
    "#q = MyModel.Solve(\"STABLE\", \"GUROBI\", True)"
   ]
  },
  {
   "cell_type": "markdown",
   "metadata": {},
   "source": [
    "## Run code manual data\n",
    "Manually enter data."
   ]
  },
  {
   "cell_type": "code",
   "execution_count": 3,
   "metadata": {},
   "outputs": [],
   "source": [
    "# Define preferences of the students\n",
    "# 'pref[i][k]' contains the position of the k-th ranked school in the preferences.\n",
    "# We assume the preferences to be strict\n",
    "# Note that preferences can be strict. We indicate this by a tuple () in the list.\n",
    "\n",
    "# Example paper\n",
    "n_stud = 4\n",
    "n_schools = 4\n",
    "\n",
    "file_name = \"Ex_paper\"\n",
    "\n",
    "# Preferences students\n",
    "pref = [['1', '3', '4', '2'],\n",
    "       ['1','4','3','2'],\n",
    "       # ['1', '4'],\n",
    "       ['2','3', '4', '1'],\n",
    "       ['2', '4', '3', '1']]\n",
    "\n",
    "# Priorities schools\n",
    "prior = [[('A', 'B'), 'C', 'D'],\n",
    "        [('C', 'D'), 'A', 'B'],\n",
    "        ['B', 'D', ('A', 'C')],\n",
    "        ['A', 'C', ('B', 'D')]]\n",
    "\n",
    "\n",
    "# Capacities schools\n",
    "cap = [1,1,1,1]\n",
    "\n",
    "# Names of students and schools\n",
    "ID_stud = [\"A\", \"B\", \"C\", \"D\"]\n",
    "ID_school = [\"1\", \"2\", \"3\", \"4\"]\n",
    "\n",
    "# Also create the random matching upon which we want to improve\n",
    "p = np.zeros(shape=(n_stud, n_schools))\n",
    "p[0][0] = 1/2\n",
    "p[1][0] = 1/2\n",
    "p[2][1] = 1/2\n",
    "p[3][1] = 1/2\n",
    "p[0][2] = 3/8\n",
    "p[2][2] = 3/8\n",
    "p[1][3] = 3/8\n",
    "p[3][3] = 3/8\n",
    "p[0][3] = 1/8\n",
    "p[2][3] = 1/8\n",
    "p[1][2] = 1/8\n",
    "p[3][2] = 1/8"
   ]
  },
  {
   "cell_type": "code",
   "execution_count": null,
   "metadata": {},
   "outputs": [],
   "source": [
    "# Generate a data instance (and print it)\n",
    "MyData = Data(n_stud, n_schools, pref, prior, cap, ID_stud, ID_school, file_name)\n",
    "print(MyData)"
   ]
  },
  {
   "cell_type": "code",
   "execution_count": null,
   "metadata": {},
   "outputs": [],
   "source": [
    "# Generate an Assignment instance (and visualize it)\n",
    "A = Assignment(MyData, p, \"Ex_paper\")\n",
    "\n",
    "# To visualize assignment\n",
    "A.visualize()"
   ]
  },
  {
   "cell_type": "code",
   "execution_count": null,
   "metadata": {},
   "outputs": [],
   "source": [
    "# Solve the formulations\n",
    "    # 'IMPR_RANK' refers to minimizing the expected rank while ensuring ex-post stability\n",
    "    # 'STABLE' refers to maximizing the fraction of STABLE matchings in the decomposition\n",
    "MyModel = Model(MyData, A, False)\n",
    "q = MyModel.Solve(\"IMPR_RANK\", \"GUROBI\", False)\n",
    "#q = MyModel.Solve(\"STABLE\", \"GUROBI\", True)"
   ]
  },
  {
   "cell_type": "code",
   "execution_count": null,
   "metadata": {},
   "outputs": [],
   "source": [
    "# Print the solution\n",
    "MyModel.print_solution()"
   ]
  },
  {
   "cell_type": "code",
   "execution_count": null,
   "metadata": {},
   "outputs": [],
   "source": [
    "# Asses and visualize the difference\n",
    "diff = Assignment(MyData, q.assignment - p, \"Ex_paper_Diff\")\n",
    "diff.visualize()"
   ]
  },
  {
   "cell_type": "code",
   "execution_count": null,
   "metadata": {},
   "outputs": [],
   "source": []
  }
 ],
 "metadata": {
  "kernelspec": {
   "display_name": "base",
   "language": "python",
   "name": "python3"
  },
  "language_info": {
   "codemirror_mode": {
    "name": "ipython",
    "version": 3
   },
   "file_extension": ".py",
   "mimetype": "text/x-python",
   "name": "python",
   "nbconvert_exporter": "python",
   "pygments_lexer": "ipython3",
   "version": "3.12.4"
  }
 },
 "nbformat": 4,
 "nbformat_minor": 2
}
